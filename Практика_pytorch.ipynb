{
  "nbformat": 4,
  "nbformat_minor": 0,
  "metadata": {
    "colab": {
      "provenance": [],
      "include_colab_link": true
    },
    "kernelspec": {
      "name": "python3",
      "display_name": "Python 3"
    },
    "language_info": {
      "name": "python"
    }
  },
  "cells": [
    {
      "cell_type": "markdown",
      "metadata": {
        "id": "view-in-github",
        "colab_type": "text"
      },
      "source": [
        "<a href=\"https://colab.research.google.com/github/Maks3174/Phy/blob/main/%D0%9F%D1%80%D0%B0%D0%BA%D1%82%D0%B8%D0%BA%D0%B0_pytorch.ipynb\" target=\"_parent\"><img src=\"https://colab.research.google.com/assets/colab-badge.svg\" alt=\"Open In Colab\"/></a>"
      ]
    },
    {
      "cell_type": "markdown",
      "source": [
        "Імпорт модулів"
      ],
      "metadata": {
        "id": "ZnHVsAJ_5Py3"
      }
    },
    {
      "cell_type": "code",
      "execution_count": 2,
      "metadata": {
        "id": "yJf_g69N5LP6"
      },
      "outputs": [],
      "source": [
        "import torch"
      ]
    },
    {
      "cell_type": "markdown",
      "source": [
        "# Завдання 1\n",
        "\n",
        "Перегляньте інформацію про доступні процесори, та виведіть про них інформацію"
      ],
      "metadata": {
        "id": "pRkcTmfh6jCX"
      }
    },
    {
      "cell_type": "code",
      "source": [
        "if torch.cuda.is_available():\n",
        "    print(\"Доступні процесори:\")\n",
        "    print(f\"GPU: {torch.cuda.get_device_name(0)}\")\n",
        "else:\n",
        "    print(\"GPU недоступний, використовується CPU\")"
      ],
      "metadata": {
        "id": "W5yEGTcV6zHy",
        "outputId": "edcbdfac-4e84-49df-ff40-5f8236b44ed3",
        "colab": {
          "base_uri": "https://localhost:8080/"
        }
      },
      "execution_count": 3,
      "outputs": [
        {
          "output_type": "stream",
          "name": "stdout",
          "text": [
            "GPU недоступний, використовується CPU\n"
          ]
        }
      ]
    },
    {
      "cell_type": "markdown",
      "source": [
        "# Завдання 2\n",
        "Підключіть colab до процесора GPU, та знову виведіть інформацію про доступні процесори"
      ],
      "metadata": {
        "id": "xTLIVYQg6z5G"
      }
    },
    {
      "cell_type": "code",
      "source": [
        "if torch.cuda.is_available():\n",
        "    print(\"Доступні процесори:\")\n",
        "    print(f\"GPU: {torch.cuda.get_device_name(0)}\")\n",
        "else:\n",
        "    print(\"GPU недоступний, використовується CPU\")"
      ],
      "metadata": {
        "id": "iVPWDF2D8dAM",
        "outputId": "bef3d449-396a-425f-a4dd-a78f90673b72",
        "colab": {
          "base_uri": "https://localhost:8080/"
        }
      },
      "execution_count": 4,
      "outputs": [
        {
          "output_type": "stream",
          "name": "stdout",
          "text": [
            "GPU недоступний, використовується CPU\n"
          ]
        }
      ]
    },
    {
      "cell_type": "markdown",
      "source": [
        "# Завдання 3\n",
        "Створіть випадковий тензор розміру (2, 3). Виведіть інформацію про його:\n",
        "\n",
        "* розмір\n",
        "* тип даних\n",
        "* процесор\n",
        "* наявність градієнта"
      ],
      "metadata": {
        "id": "OkMil6fb7AiX"
      }
    },
    {
      "cell_type": "code",
      "source": [
        "tensor = torch.randn(2, 3)\n",
        "\n",
        "print(\"Розмір тензора:\", tensor.size())\n",
        "print(\"Тип даних:\", tensor.dtype)\n",
        "print(\"Процесор:\", tensor.device)\n",
        "print(\"Наявність градієнта:\", tensor.requires_grad)"
      ],
      "metadata": {
        "id": "ih3MeOto8yrO",
        "outputId": "c60f3fe7-316c-4f48-d3c9-a173931bfc44",
        "colab": {
          "base_uri": "https://localhost:8080/"
        }
      },
      "execution_count": 5,
      "outputs": [
        {
          "output_type": "stream",
          "name": "stdout",
          "text": [
            "Розмір тензора: torch.Size([2, 3])\n",
            "Тип даних: torch.float32\n",
            "Процесор: cpu\n",
            "Наявність градієнта: False\n"
          ]
        }
      ]
    },
    {
      "cell_type": "markdown",
      "source": [
        "# Завдання 4\n",
        "\n",
        "Створіть 2 тензора розміру 100. Використовуючи лише модуль `torch` обрахуйте середьню абсолютну похибку(mae) між ними. Виведіть результат як число"
      ],
      "metadata": {
        "id": "nNrrplv_9Vha"
      }
    },
    {
      "cell_type": "code",
      "source": [
        "tensor1 = torch.randn(100)\n",
        "tensor2 = torch.randn(100)\n",
        "\n",
        "mae = torch.mean(torch.abs(tensor1 - tensor2))\n",
        "\n",
        "print(\"Середня абсолютна похибка (MAE):\", mae.item())"
      ],
      "metadata": {
        "id": "HybhfrBT9wT5",
        "outputId": "0022d3c9-d76f-4ef7-cafc-aab363d1a5e1",
        "colab": {
          "base_uri": "https://localhost:8080/"
        }
      },
      "execution_count": 6,
      "outputs": [
        {
          "output_type": "stream",
          "name": "stdout",
          "text": [
            "Середня абсолютна похибка (MAE): 1.0502699613571167\n"
          ]
        }
      ]
    },
    {
      "cell_type": "markdown",
      "source": [
        "# Завдання 5\n",
        "\n",
        "Створіть 3 випадкових тензора з розмірами:\n",
        "* 32х28х28\n",
        "* 16х28х28\n",
        "* 64х28х28\n",
        "\n",
        "Об'єднайте їх по першій розмірності. Результат має мати розмір 112х28х28"
      ],
      "metadata": {
        "id": "JoU54G199w5-"
      }
    },
    {
      "cell_type": "code",
      "source": [
        "tensor1 = torch.randn(32, 28, 28)\n",
        "tensor2 = torch.randn(16, 28, 28)\n",
        "tensor3 = torch.randn(64, 28, 28)\n",
        "\n",
        "result_tensor = torch.cat((tensor1, tensor2, tensor3), dim=0)\n",
        "\n",
        "print(\"Розмір об'єднаного тензора:\", result_tensor.size())"
      ],
      "metadata": {
        "id": "Ar7NOowB-NBn",
        "outputId": "6ec4e0cf-fd6c-40c6-fc25-ab8cb4c655c6",
        "colab": {
          "base_uri": "https://localhost:8080/"
        }
      },
      "execution_count": 7,
      "outputs": [
        {
          "output_type": "stream",
          "name": "stdout",
          "text": [
            "Розмір об'єднаного тензора: torch.Size([112, 28, 28])\n"
          ]
        }
      ]
    },
    {
      "cell_type": "markdown",
      "source": [
        "# Завдання 6\n",
        "Застосуйте метод градієнтного спуску для функції"
      ],
      "metadata": {
        "id": "8v4erUf8-Tnn"
      }
    },
    {
      "cell_type": "code",
      "source": [
        "def f(x):\n",
        "    return x**2 / 3 + torch.sin(torch.pi * x)\n",
        "\n",
        "x = torch.tensor([2.0], requires_grad=True)\n",
        "\n",
        "learning_rate = 0.01\n",
        "num_iterations = 1000\n",
        "\n",
        "for i in range(num_iterations):\n",
        "    y = f(x)\n",
        "\n",
        "    x.grad = None\n",
        "\n",
        "    y.backward()\n",
        "\n",
        "    with torch.no_grad():\n",
        "        x -= learning_rate * x.grad\n",
        "    if i % 100 == 0:\n",
        "        print(f\"Iteration {i}: x = {x.item()}, f(x) = {y.item()}\")\n",
        "\n",
        "print(f\"Final result: x = {x.item()}, f(x) = {f(x).item()}\")"
      ],
      "metadata": {
        "id": "c89FE7vc-aWy",
        "outputId": "183c387b-4ec8-4777-842b-dd7d5569553d",
        "colab": {
          "base_uri": "https://localhost:8080/"
        }
      },
      "execution_count": 8,
      "outputs": [
        {
          "output_type": "stream",
          "name": "stdout",
          "text": [
            "Iteration 0: x = 1.9552507400512695, f(x) = 1.3333334922790527\n",
            "Iteration 100: x = 1.4037342071533203, f(x) = -0.297792911529541\n",
            "Iteration 200: x = 1.4037213325500488, f(x) = -0.2977929711341858\n",
            "Iteration 300: x = 1.4037213325500488, f(x) = -0.2977929711341858\n",
            "Iteration 400: x = 1.4037213325500488, f(x) = -0.2977929711341858\n",
            "Iteration 500: x = 1.4037213325500488, f(x) = -0.2977929711341858\n",
            "Iteration 600: x = 1.4037213325500488, f(x) = -0.2977929711341858\n",
            "Iteration 700: x = 1.4037213325500488, f(x) = -0.2977929711341858\n",
            "Iteration 800: x = 1.4037213325500488, f(x) = -0.2977929711341858\n",
            "Iteration 900: x = 1.4037213325500488, f(x) = -0.2977929711341858\n",
            "Final result: x = 1.4037213325500488, f(x) = -0.2977929711341858\n"
          ]
        }
      ]
    },
    {
      "cell_type": "markdown",
      "source": [
        "# Завдання 7\n",
        "Застосуйте метод градієнтного спуску для функції. Мінімум функції рівний 0"
      ],
      "metadata": {
        "id": "UjHK74ES-iuO"
      }
    },
    {
      "cell_type": "code",
      "source": [
        "learning_rate = 0.01\n",
        "num_iterations = 1000\n",
        "\n",
        "x = torch.tensor([2.0], requires_grad=True)\n",
        "y = torch.tensor([2.0], requires_grad=True)\n",
        "\n",
        "\n",
        "# Визначимо функцію Швефеля\n",
        "def f1(x, y):\n",
        "    return  418.9829*2 - x*torch.sin(x.abs().sqrt()) - y*torch.sin(y.abs().sqrt())\n",
        "\n",
        "for i in range(num_iterations):\n",
        "    z = f1(x, y)\n",
        "\n",
        "    x.grad = None\n",
        "    y.grad = None\n",
        "\n",
        "    z.backward()\n",
        "\n",
        "    with torch.no_grad():\n",
        "        x -= learning_rate * x.grad\n",
        "        y -= learning_rate * y.grad\n",
        "\n",
        "    if i % 100 == 0:\n",
        "        print(f\"Iteration {i}: x = {x.item()}, y = {y.item()}, f1(x, y) = {z.item()}\")\n",
        "\n",
        "print(f\"Final result for f1: x = {x.item()}, y = {y.item()}, f1(x, y) = {f1(x, y).item()}\")\n",
        "\n",
        "def f2(x, y):\n",
        "    return 2*x**2 - 1.05*x**4 + 1/6*x**6 + x*y + y**2\n",
        "\n",
        "for i in range(num_iterations):\n",
        "    z = f2(x, y)\n",
        "\n",
        "    x.grad = None\n",
        "    y.grad = None\n",
        "\n",
        "    z.backward()\n",
        "\n",
        "    with torch.no_grad():\n",
        "        x -= learning_rate * x.grad\n",
        "        y -= learning_rate * y.grad\n",
        "\n",
        "    if i % 100 == 0:\n",
        "        print(f\"Iteration {i}: x = {x.item()}, y = {y.item()}, f2(x, y) = {z.item()}\")\n",
        "\n",
        "print(f\"Final result for f2: x = {x.item()}, y = {y.item()}, f2(x, y) = {f2(x, y).item()}\")\n",
        "\n",
        "\n",
        "def f3(x, y):\n",
        "    return 106.7645 + torch.sin(x)*torch.exp((1-torch.cos(y))**2) + \\\n",
        "           torch.cos(y)*torch.exp((1-torch.sin(x))**2) + \\\n",
        "           (x - y)**2\n",
        "\n",
        "for i in range(num_iterations):\n",
        "    z = f3(x, y)\n",
        "\n",
        "    x.grad = None\n",
        "    y.grad = None\n",
        "\n",
        "    z.backward()\n",
        "\n",
        "    with torch.no_grad():\n",
        "        x -= learning_rate * x.grad\n",
        "        y -= learning_rate * y.grad\n",
        "\n",
        "    if i % 100 == 0:\n",
        "        print(f\"Iteration {i}: x = {x.item()}, y = {y.item()}, f3(x, y) = {z.item()}\")\n",
        "\n",
        "print(f\"Final result for f3: x = {x.item()}, y = {y.item()}, f3(x, y) = {f3(x, y).item()}\")\n"
      ],
      "metadata": {
        "id": "vRD515Ik_xM-",
        "outputId": "1e7185a2-4957-48e6-d2eb-7dfd7982bbba",
        "colab": {
          "base_uri": "https://localhost:8080/"
        }
      },
      "execution_count": 12,
      "outputs": [
        {
          "output_type": "stream",
          "name": "stdout",
          "text": [
            "Iteration 0: x = 2.0109803676605225, y = 2.0109803676605225, f1(x, y) = 834.0147705078125\n",
            "Iteration 100: x = 2.992281198501587, y = 2.992281198501587, f1(x, y) = 832.0712890625\n",
            "Iteration 200: x = 3.715060234069824, y = 3.715060234069824, f1(x, y) = 831.010498046875\n",
            "Iteration 300: x = 4.215861797332764, y = 4.215861797332764, f1(x, y) = 830.4998779296875\n",
            "Iteration 400: x = 4.554872989654541, y = 4.554872989654541, f1(x, y) = 830.265625\n",
            "Iteration 500: x = 4.782289028167725, y = 4.782289028167725, f1(x, y) = 830.16015625\n",
            "Iteration 600: x = 4.934310436248779, y = 4.934310436248779, f1(x, y) = 830.113037109375\n",
            "Iteration 700: x = 5.035787582397461, y = 5.035787582397461, f1(x, y) = 830.092041015625\n",
            "Iteration 800: x = 5.103498935699463, y = 5.103498935699463, f1(x, y) = 830.082763671875\n",
            "Iteration 900: x = 5.148669242858887, y = 5.148669242858887, f1(x, y) = 830.07861328125\n",
            "Final result for f1: x = 5.178557872772217, y = 5.178557872772217, f1(x, y) = 830.07666015625\n",
            "Iteration 0: x = -26.490543365478516, y = 5.023200988769531, f2(x, y) = 2566.54833984375\n",
            "Iteration 100: x = nan, y = nan, f2(x, y) = nan\n",
            "Iteration 200: x = nan, y = nan, f2(x, y) = nan\n",
            "Iteration 300: x = nan, y = nan, f2(x, y) = nan\n",
            "Iteration 400: x = nan, y = nan, f2(x, y) = nan\n",
            "Iteration 500: x = nan, y = nan, f2(x, y) = nan\n",
            "Iteration 600: x = nan, y = nan, f2(x, y) = nan\n",
            "Iteration 700: x = nan, y = nan, f2(x, y) = nan\n",
            "Iteration 800: x = nan, y = nan, f2(x, y) = nan\n",
            "Iteration 900: x = nan, y = nan, f2(x, y) = nan\n",
            "Final result for f2: x = nan, y = nan, f2(x, y) = nan\n",
            "Iteration 0: x = nan, y = nan, f3(x, y) = nan\n",
            "Iteration 100: x = nan, y = nan, f3(x, y) = nan\n",
            "Iteration 200: x = nan, y = nan, f3(x, y) = nan\n",
            "Iteration 300: x = nan, y = nan, f3(x, y) = nan\n",
            "Iteration 400: x = nan, y = nan, f3(x, y) = nan\n",
            "Iteration 500: x = nan, y = nan, f3(x, y) = nan\n",
            "Iteration 600: x = nan, y = nan, f3(x, y) = nan\n",
            "Iteration 700: x = nan, y = nan, f3(x, y) = nan\n",
            "Iteration 800: x = nan, y = nan, f3(x, y) = nan\n",
            "Iteration 900: x = nan, y = nan, f3(x, y) = nan\n",
            "Final result for f3: x = nan, y = nan, f3(x, y) = nan\n"
          ]
        }
      ]
    },
    {
      "cell_type": "code",
      "source": [
        "\n"
      ],
      "metadata": {
        "id": "j2RaZh9E-oyK"
      },
      "execution_count": null,
      "outputs": []
    }
  ]
}