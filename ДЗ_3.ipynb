{
  "nbformat": 4,
  "nbformat_minor": 0,
  "metadata": {
    "colab": {
      "provenance": [],
      "include_colab_link": true
    },
    "kernelspec": {
      "name": "python3",
      "display_name": "Python 3"
    },
    "language_info": {
      "name": "python"
    }
  },
  "cells": [
    {
      "cell_type": "markdown",
      "metadata": {
        "id": "view-in-github",
        "colab_type": "text"
      },
      "source": [
        "<a href=\"https://colab.research.google.com/github/Maks3174/Phy/blob/main/%D0%94%D0%97_3.ipynb\" target=\"_parent\"><img src=\"https://colab.research.google.com/assets/colab-badge.svg\" alt=\"Open In Colab\"/></a>"
      ]
    },
    {
      "cell_type": "markdown",
      "source": [
        "Імпортуйте модуль pandas"
      ],
      "metadata": {
        "id": "JcEy7-4Sou1q"
      }
    },
    {
      "cell_type": "code",
      "execution_count": 1,
      "metadata": {
        "id": "bBPN6MQ4omtx"
      },
      "outputs": [],
      "source": [
        "import pandas as pd"
      ]
    },
    {
      "cell_type": "markdown",
      "source": [
        "# Інформація про дані\n",
        "Зібрано дані продажу техніки в різних магазинах.\n",
        "* OrderDate -- дата замовлення\n",
        "* Region    -- регіон де розміщено магазин\n",
        "* Manager   -- ім'я менеджера\n",
        "* SalesMan  -- ім'я продавця\n",
        "* Item      -- тип товару\n",
        "* Units     -- кількість купленого товару\n",
        "* Unit_price -- ціна за штуку\n",
        "* Sale_amt   -- загальна вартість покупки"
      ],
      "metadata": {
        "id": "cR2fUNbco1Fh"
      }
    },
    {
      "cell_type": "code",
      "source": [
        "df = pd.read_csv(\"https://raw.githubusercontent.com/HalyshAnton/IT-Step-Pyton-AI/main/module2/data/sales_data.csv\", index_col=\"Unnamed: 0\")"
      ],
      "metadata": {
        "id": "uvpR4oiIqU7t"
      },
      "execution_count": 4,
      "outputs": []
    },
    {
      "cell_type": "markdown",
      "source": [
        "# Завдання 1\n",
        "\n",
        "Вивести загальну інформацію про таблицю: кількість рядків та стовпців, назви стовпців та їхній тип даних, в яких стовпцях є пропущені значення"
      ],
      "metadata": {
        "id": "SYfF3l1Ao0SC"
      }
    },
    {
      "cell_type": "code",
      "source": [
        "print(\"Кількість рядків і стовпців:\", df.shape)\n",
        "print(\"\\nНазви стовпців та їхні типи даних:\")\n",
        "print(df.dtypes)\n",
        "print(\"\\nСтовпці з пропущеними значеннями:\")\n",
        "print(df.isnull().any())"
      ],
      "metadata": {
        "id": "FF27dmV_ynWM",
        "outputId": "dfd24949-5dcd-4906-ab31-698d3ef7e1de",
        "colab": {
          "base_uri": "https://localhost:8080/"
        }
      },
      "execution_count": 5,
      "outputs": [
        {
          "output_type": "stream",
          "name": "stdout",
          "text": [
            "Кількість рядків і стовпців: (45, 8)\n",
            "\n",
            "Назви стовпців та їхні типи даних:\n",
            "OrderDate      object\n",
            "Region         object\n",
            "Manager        object\n",
            "SalesMan       object\n",
            "Item           object\n",
            "Units         float64\n",
            "Unit_price    float64\n",
            "Sale_amt      float64\n",
            "dtype: object\n",
            "\n",
            "Стовпці з пропущеними значеннями:\n",
            "OrderDate      True\n",
            "Region         True\n",
            "Manager        True\n",
            "SalesMan       True\n",
            "Item           True\n",
            "Units         False\n",
            "Unit_price    False\n",
            "Sale_amt      False\n",
            "dtype: bool\n"
          ]
        }
      ]
    },
    {
      "cell_type": "markdown",
      "source": [
        "# Завдання 2\n",
        "\n",
        "Перейменуйте стовпчики так, щоб назви містили літери нижнього регістру"
      ],
      "metadata": {
        "id": "GtiSCylwuhgl"
      }
    },
    {
      "cell_type": "code",
      "source": [
        "df.columns = df.columns.str.lower()\n",
        "print(\"Перейменовані стовпці:\")\n",
        "print(df.columns)"
      ],
      "metadata": {
        "id": "EWZj1Pltu2la",
        "outputId": "2f17a028-da97-445a-9cfd-8c71ad6e2c58",
        "colab": {
          "base_uri": "https://localhost:8080/"
        }
      },
      "execution_count": 6,
      "outputs": [
        {
          "output_type": "stream",
          "name": "stdout",
          "text": [
            "Перейменовані стовпці:\n",
            "Index(['orderdate', 'region', 'manager', 'salesman', 'item', 'units',\n",
            "       'unit_price', 'sale_amt'],\n",
            "      dtype='object')\n"
          ]
        }
      ]
    },
    {
      "cell_type": "markdown",
      "source": [
        "# Завдання 3\n",
        "Виведіть дані про купівлі телевізорів та телефонів"
      ],
      "metadata": {
        "id": "4opZJS6YtxzK"
      }
    },
    {
      "cell_type": "code",
      "source": [
        "print(\"Купівлі телевізорів:\")\n",
        "print(df[df['item'] == 'TV'])\n",
        "print(\"\\nКупівлі телефонів:\")\n",
        "print(df[df['item'] == 'Phone'])"
      ],
      "metadata": {
        "id": "cUenrZqdugpM",
        "outputId": "92232ccf-001b-4ff4-cddc-8bd0ebb5d1af",
        "colab": {
          "base_uri": "https://localhost:8080/"
        }
      },
      "execution_count": 7,
      "outputs": [
        {
          "output_type": "stream",
          "name": "stdout",
          "text": [
            "Купівлі телевізорів:\n",
            "Empty DataFrame\n",
            "Columns: [orderdate, region, manager, salesman, item, units, unit_price, sale_amt]\n",
            "Index: []\n",
            "\n",
            "Купівлі телефонів:\n",
            "Empty DataFrame\n",
            "Columns: [orderdate, region, manager, salesman, item, units, unit_price, sale_amt]\n",
            "Index: []\n"
          ]
        }
      ]
    },
    {
      "cell_type": "markdown",
      "source": [
        "# Завдання 4\n",
        "Яка загальна виручка у продавця Luis?"
      ],
      "metadata": {
        "id": "Xj6KjrIvy88t"
      }
    },
    {
      "cell_type": "code",
      "source": [
        "total_sales_luis = df[df['manager'] == 'Luis']['sale_amt'].sum()\n",
        "print(\"Загальна виручка у продавця Luis:\", total_sales_luis)"
      ],
      "metadata": {
        "id": "v61fgvNGOimR",
        "outputId": "8c00de6e-7a53-4cec-a2be-5ee3da8be4fc",
        "colab": {
          "base_uri": "https://localhost:8080/"
        }
      },
      "execution_count": 8,
      "outputs": [
        {
          "output_type": "stream",
          "name": "stdout",
          "text": [
            "Загальна виручка у продавця Luis: 0.0\n"
          ]
        }
      ]
    },
    {
      "cell_type": "markdown",
      "source": [
        "# Завдання 5\n",
        "\n",
        "Скільки і якого товару було продано?\n",
        "\n",
        "див groupby(),"
      ],
      "metadata": {
        "id": "EC6FWEv-u1gT"
      }
    },
    {
      "cell_type": "code",
      "source": [
        "items_sold = df.groupby('item')['units'].sum()\n",
        "print(\"Кількість і види проданого товару:\")\n",
        "print(items_sold)"
      ],
      "metadata": {
        "id": "4-MlEzEDzLg7",
        "outputId": "09d0a2e8-50a0-4659-b362-d309493cdc0f",
        "colab": {
          "base_uri": "https://localhost:8080/"
        }
      },
      "execution_count": 9,
      "outputs": [
        {
          "output_type": "stream",
          "name": "stdout",
          "text": [
            "Кількість і види проданого товару:\n",
            "item\n",
            "Cell Phone      278.0\n",
            "Desk             10.0\n",
            "Home Theater    722.0\n",
            "Television      716.0\n",
            "Video Games     395.0\n",
            "Name: units, dtype: float64\n"
          ]
        }
      ]
    },
    {
      "cell_type": "markdown",
      "source": [
        "# Завдання 6\n",
        "Перевірте чи правильно розраховано загальну вартість покупки. Виведіть ті рядки де є помилка. Виправте дані в таблиці"
      ],
      "metadata": {
        "id": "E_yqxKNXxF2u"
      }
    },
    {
      "cell_type": "code",
      "source": [
        "df['calculated_amt'] = df['unit_price'] * df['units']\n",
        "rows_with_errors = df[df['calculated_amt'] != df['sale_amt']]\n",
        "print(\"Рядки з помилками у розрахунку загальної вартості покупки:\")\n",
        "print(rows_with_errors)\n",
        "\n",
        "df['sale_amt'] = df['calculated_amt']\n",
        "df.drop(columns=['calculated_amt'], inplace=True)\n",
        "print(\"Дані у таблиці оновлені з виправленими значеннями у стовпці sale_amt.\")"
      ],
      "metadata": {
        "id": "KFDqxG1yx5dS",
        "outputId": "993ed656-4d8c-4ec7-d7fd-ca216e89af9d",
        "colab": {
          "base_uri": "https://localhost:8080/"
        }
      },
      "execution_count": 10,
      "outputs": [
        {
          "output_type": "stream",
          "name": "stdout",
          "text": [
            "Рядки з помилками у розрахунку загальної вартості покупки:\n",
            "   orderdate region manager salesman item   units  unit_price  sale_amt  \\\n",
            "43       NaN    NaN     NaN      NaN  NaN  278.00    1125.000  62550.00   \n",
            "44       NaN    NaN     NaN      NaN  NaN   34.75     140.625   7818.75   \n",
            "\n",
            "    calculated_amt  \n",
            "43    312750.00000  \n",
            "44      4886.71875  \n",
            "Дані у таблиці оновлені з виправленими значеннями у стовпці sale_amt.\n"
          ]
        }
      ]
    }
  ]
}