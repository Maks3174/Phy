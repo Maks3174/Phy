{
  "metadata": {
    "kernelspec": {
      "language": "python",
      "display_name": "Python 3",
      "name": "python3"
    },
    "language_info": {
      "name": "python",
      "version": "3.10.13",
      "mimetype": "text/x-python",
      "codemirror_mode": {
        "name": "ipython",
        "version": 3
      },
      "pygments_lexer": "ipython3",
      "nbconvert_exporter": "python",
      "file_extension": ".py"
    },
    "kaggle": {
      "accelerator": "none",
      "dataSources": [
        {
          "sourceId": 1449674,
          "sourceType": "datasetVersion",
          "datasetId": 849724
        }
      ],
      "dockerImageVersionId": 30746,
      "isInternetEnabled": false,
      "language": "python",
      "sourceType": "notebook",
      "isGpuEnabled": false
    },
    "colab": {
      "name": "notebookb2d41d7a90",
      "provenance": [],
      "include_colab_link": true
    }
  },
  "nbformat_minor": 0,
  "nbformat": 4,
  "cells": [
    {
      "cell_type": "markdown",
      "metadata": {
        "id": "view-in-github",
        "colab_type": "text"
      },
      "source": [
        "<a href=\"https://colab.research.google.com/github/Maks3174/Phy/blob/main/notebookb2d41d7a90.ipynb\" target=\"_parent\"><img src=\"https://colab.research.google.com/assets/colab-badge.svg\" alt=\"Open In Colab\"/></a>"
      ]
    },
    {
      "source": [
        "\n",
        "# IMPORTANT: RUN THIS CELL IN ORDER TO IMPORT YOUR KAGGLE DATA SOURCES\n",
        "# TO THE CORRECT LOCATION (/kaggle/input) IN YOUR NOTEBOOK,\n",
        "# THEN FEEL FREE TO DELETE THIS CELL.\n",
        "# NOTE: THIS NOTEBOOK ENVIRONMENT DIFFERS FROM KAGGLE'S PYTHON\n",
        "# ENVIRONMENT SO THERE MAY BE MISSING LIBRARIES USED BY YOUR\n",
        "# NOTEBOOK.\n",
        "\n",
        "import os\n",
        "import sys\n",
        "from tempfile import NamedTemporaryFile\n",
        "from urllib.request import urlopen\n",
        "from urllib.parse import unquote, urlparse\n",
        "from urllib.error import HTTPError\n",
        "from zipfile import ZipFile\n",
        "import tarfile\n",
        "import shutil\n",
        "\n",
        "CHUNK_SIZE = 40960\n",
        "DATA_SOURCE_MAPPING = 'leukemia-classification:https%3A%2F%2Fstorage.googleapis.com%2Fkaggle-data-sets%2F849724%2F1449674%2Fbundle%2Farchive.zip%3FX-Goog-Algorithm%3DGOOG4-RSA-SHA256%26X-Goog-Credential%3Dgcp-kaggle-com%2540kaggle-161607.iam.gserviceaccount.com%252F20240818%252Fauto%252Fstorage%252Fgoog4_request%26X-Goog-Date%3D20240818T102335Z%26X-Goog-Expires%3D259200%26X-Goog-SignedHeaders%3Dhost%26X-Goog-Signature%3D3f1517ea0a90d50870f563cacec2ca2d1a8c1757f03238e0a1927ac263cb94f0276156b989dd1e666fcd6e63fb1381f000760f61735eb805c43584d80593038e92f580850d7ccef7e7ffc5f425d5a38da20285675d0a7f359e9b4664e5b2d6897d16e9e3280e1a5fd98e4615deb715a8644cec8e1415bbd4e74aa72440855f20d1b617058f48b152d5b4624179601bce5ded2aa2475b073020b809217cab50cc8cbb5220325708fb5f4c72bbc96c21981122ed254857142a100c5984973d946972a62d89b55993c0137511cba34ed1a4ff515db02694563a3ed3e1e81717908b00507986773450e06b9df87dd407cfe3f61ea29aad42f385c28c33141c9a0846'\n",
        "\n",
        "KAGGLE_INPUT_PATH='/kaggle/input'\n",
        "KAGGLE_WORKING_PATH='/kaggle/working'\n",
        "KAGGLE_SYMLINK='kaggle'\n",
        "\n",
        "!umount /kaggle/input/ 2> /dev/null\n",
        "shutil.rmtree('/kaggle/input', ignore_errors=True)\n",
        "os.makedirs(KAGGLE_INPUT_PATH, 0o777, exist_ok=True)\n",
        "os.makedirs(KAGGLE_WORKING_PATH, 0o777, exist_ok=True)\n",
        "\n",
        "try:\n",
        "  os.symlink(KAGGLE_INPUT_PATH, os.path.join(\"..\", 'input'), target_is_directory=True)\n",
        "except FileExistsError:\n",
        "  pass\n",
        "try:\n",
        "  os.symlink(KAGGLE_WORKING_PATH, os.path.join(\"..\", 'working'), target_is_directory=True)\n",
        "except FileExistsError:\n",
        "  pass\n",
        "\n",
        "for data_source_mapping in DATA_SOURCE_MAPPING.split(','):\n",
        "    directory, download_url_encoded = data_source_mapping.split(':')\n",
        "    download_url = unquote(download_url_encoded)\n",
        "    filename = urlparse(download_url).path\n",
        "    destination_path = os.path.join(KAGGLE_INPUT_PATH, directory)\n",
        "    try:\n",
        "        with urlopen(download_url) as fileres, NamedTemporaryFile() as tfile:\n",
        "            total_length = fileres.headers['content-length']\n",
        "            print(f'Downloading {directory}, {total_length} bytes compressed')\n",
        "            dl = 0\n",
        "            data = fileres.read(CHUNK_SIZE)\n",
        "            while len(data) > 0:\n",
        "                dl += len(data)\n",
        "                tfile.write(data)\n",
        "                done = int(50 * dl / int(total_length))\n",
        "                sys.stdout.write(f\"\\r[{'=' * done}{' ' * (50-done)}] {dl} bytes downloaded\")\n",
        "                sys.stdout.flush()\n",
        "                data = fileres.read(CHUNK_SIZE)\n",
        "            if filename.endswith('.zip'):\n",
        "              with ZipFile(tfile) as zfile:\n",
        "                zfile.extractall(destination_path)\n",
        "            else:\n",
        "              with tarfile.open(tfile.name) as tarfile:\n",
        "                tarfile.extractall(destination_path)\n",
        "            print(f'\\nDownloaded and uncompressed: {directory}')\n",
        "    except HTTPError as e:\n",
        "        print(f'Failed to load (likely expired) {download_url} to path {destination_path}')\n",
        "        continue\n",
        "    except OSError as e:\n",
        "        print(f'Failed to load {download_url} to path {destination_path}')\n",
        "        continue\n",
        "\n",
        "print('Data source import complete.')\n"
      ],
      "metadata": {
        "id": "kYJp7Kh3A47P"
      },
      "cell_type": "code",
      "outputs": [],
      "execution_count": null
    },
    {
      "cell_type": "code",
      "source": [
        "import torch\n",
        "from torchvision import datasets, transforms\n",
        "device = \"cuda\" if torch.cuda.is_available() else \"cpu\""
      ],
      "metadata": {
        "execution": {
          "iopub.status.busy": "2024-08-18T10:23:07.951201Z",
          "iopub.execute_input": "2024-08-18T10:23:07.951857Z",
          "iopub.status.idle": "2024-08-18T10:23:07.958641Z",
          "shell.execute_reply.started": "2024-08-18T10:23:07.951816Z",
          "shell.execute_reply": "2024-08-18T10:23:07.956905Z"
        },
        "trusted": true,
        "id": "h87kpXTrA47R"
      },
      "execution_count": null,
      "outputs": []
    },
    {
      "cell_type": "code",
      "source": [
        "data_dir = '/kaggle/input/leukemia-classification/C-NMC_Leukemia/training_data/fold_0'\n",
        "\n",
        "\n",
        "dataset = datasets.ImageFolder(root=data_dir)"
      ],
      "metadata": {
        "execution": {
          "iopub.status.busy": "2024-08-18T10:23:07.960989Z",
          "iopub.execute_input": "2024-08-18T10:23:07.961967Z",
          "iopub.status.idle": "2024-08-18T10:23:10.260203Z",
          "shell.execute_reply.started": "2024-08-18T10:23:07.961905Z",
          "shell.execute_reply": "2024-08-18T10:23:10.259252Z"
        },
        "trusted": true,
        "id": "DwUwYbwcA47S"
      },
      "execution_count": null,
      "outputs": []
    },
    {
      "cell_type": "code",
      "source": [
        "data_dir = '/kaggle/input/leukemia-classification/C-NMC_Leukemia/training_data/fold_1'\n",
        "dataset1 = datasets.ImageFolder(root=data_dir)"
      ],
      "metadata": {
        "execution": {
          "iopub.status.busy": "2024-08-18T10:23:10.261292Z",
          "iopub.execute_input": "2024-08-18T10:23:10.261587Z",
          "iopub.status.idle": "2024-08-18T10:23:12.918536Z",
          "shell.execute_reply.started": "2024-08-18T10:23:10.261564Z",
          "shell.execute_reply": "2024-08-18T10:23:12.917638Z"
        },
        "trusted": true,
        "id": "Ts0jl_YQA47S"
      },
      "execution_count": null,
      "outputs": []
    },
    {
      "cell_type": "code",
      "source": [
        "data_dir = '/kaggle/input/leukemia-classification/C-NMC_Leukemia/training_data/fold_2'\n",
        "dataset2 = datasets.ImageFolder(root=data_dir)"
      ],
      "metadata": {
        "execution": {
          "iopub.status.busy": "2024-08-18T10:23:12.92141Z",
          "iopub.execute_input": "2024-08-18T10:23:12.921811Z",
          "iopub.status.idle": "2024-08-18T10:23:15.797308Z",
          "shell.execute_reply.started": "2024-08-18T10:23:12.921777Z",
          "shell.execute_reply": "2024-08-18T10:23:15.796237Z"
        },
        "trusted": true,
        "id": "wXlmUftlA47S"
      },
      "execution_count": null,
      "outputs": []
    },
    {
      "cell_type": "code",
      "source": [
        "from torch.utils.data import ConcatDataset\n",
        "dataset = ConcatDataset([dataset, dataset1, dataset2])\n",
        "len(dataset)"
      ],
      "metadata": {
        "execution": {
          "iopub.status.busy": "2024-08-18T10:23:15.798572Z",
          "iopub.execute_input": "2024-08-18T10:23:15.798866Z",
          "iopub.status.idle": "2024-08-18T10:23:15.807008Z",
          "shell.execute_reply.started": "2024-08-18T10:23:15.798843Z",
          "shell.execute_reply": "2024-08-18T10:23:15.805951Z"
        },
        "trusted": true,
        "id": "sB2d_7NBA47T",
        "outputId": "4f7855e0-03ab-4190-a089-f1e1ff8163f3"
      },
      "execution_count": null,
      "outputs": [
        {
          "execution_count": 7,
          "output_type": "execute_result",
          "data": {
            "text/plain": "10661"
          },
          "metadata": {}
        }
      ]
    },
    {
      "cell_type": "code",
      "source": [
        "classes = dataset.datasets[0].classes\n",
        "num_classes = len(dataset.datasets[0].classes)\n",
        "model = TransferLearningClassifier(num_classes).to(device)"
      ],
      "metadata": {
        "execution": {
          "iopub.status.busy": "2024-08-18T10:23:15.808118Z",
          "iopub.execute_input": "2024-08-18T10:23:15.808973Z",
          "iopub.status.idle": "2024-08-18T10:23:16.187118Z",
          "shell.execute_reply.started": "2024-08-18T10:23:15.808936Z",
          "shell.execute_reply": "2024-08-18T10:23:16.185387Z"
        },
        "trusted": true,
        "id": "bJ24uHqfA47T",
        "outputId": "372010ec-7165-457e-f71a-3e2843996ec8"
      },
      "execution_count": null,
      "outputs": [
        {
          "traceback": [
            "\u001b[0;31m---------------------------------------------------------------------------\u001b[0m",
            "\u001b[0;31mNameError\u001b[0m                                 Traceback (most recent call last)",
            "Cell \u001b[0;32mIn[8], line 3\u001b[0m\n\u001b[1;32m      1\u001b[0m classes \u001b[38;5;241m=\u001b[39m dataset\u001b[38;5;241m.\u001b[39mdatasets[\u001b[38;5;241m0\u001b[39m]\u001b[38;5;241m.\u001b[39mclasses\n\u001b[1;32m      2\u001b[0m num_classes \u001b[38;5;241m=\u001b[39m \u001b[38;5;28mlen\u001b[39m(dataset\u001b[38;5;241m.\u001b[39mdatasets[\u001b[38;5;241m0\u001b[39m]\u001b[38;5;241m.\u001b[39mclasses)\n\u001b[0;32m----> 3\u001b[0m model \u001b[38;5;241m=\u001b[39m \u001b[43mTransferLearningClassifier\u001b[49m(num_classes)\u001b[38;5;241m.\u001b[39mto(device)\n",
            "\u001b[0;31mNameError\u001b[0m: name 'TransferLearningClassifier' is not defined"
          ],
          "ename": "NameError",
          "evalue": "name 'TransferLearningClassifier' is not defined",
          "output_type": "error"
        }
      ]
    },
    {
      "cell_type": "code",
      "source": [
        "from torch.utils.data import random_split\n",
        "\n",
        "train_ratio = 0.8\n",
        "\n",
        "train_data, test_data = random_split(dataset, [train_ratio, 1-train_ratio])"
      ],
      "metadata": {
        "execution": {
          "iopub.status.busy": "2024-08-18T10:23:16.188021Z",
          "iopub.status.idle": "2024-08-18T10:23:16.188399Z",
          "shell.execute_reply.started": "2024-08-18T10:23:16.188218Z",
          "shell.execute_reply": "2024-08-18T10:23:16.188234Z"
        },
        "trusted": true,
        "id": "eTeuTfVOA47U"
      },
      "execution_count": null,
      "outputs": []
    },
    {
      "cell_type": "code",
      "source": [
        "train_transform = transforms.Compose([\n",
        "    transforms.Resize((224, 224)),\n",
        "    transforms.RandomHorizontalFlip(p=0.5),\n",
        "    transforms.ToTensor(),\n",
        "    transforms.Normalize(mean=[0.3517, 0.3557, 0.3570],\n",
        "                         std=[0.2325, 0.2347, 0.2353])\n",
        "])\n",
        "\n",
        "test_transform = transforms.Compose([\n",
        "    transforms.Resize((224, 224)),\n",
        "    transforms.ToTensor(),\n",
        "    transforms.Normalize(mean=[0.3517, 0.3557, 0.3570],\n",
        "                         std=[0.2325, 0.2347, 0.2353])\n",
        "])\n",
        "\n",
        "\n",
        "class TransformDataset(torch.utils.data.Dataset):\n",
        "    def __init__(self, subset, transform=None):\n",
        "        self.subset = subset\n",
        "        self.transform = transform\n",
        "\n",
        "    def __getitem__(self, index):\n",
        "        x, y = self.subset[index]\n",
        "        if self.transform:\n",
        "            x = self.transform(x)\n",
        "        return x, y\n",
        "\n",
        "    def __len__(self):\n",
        "        return len(self.subset)\n",
        "\n",
        "\n",
        "train_data = TransformDataset(train_data, transform = train_transform)\n",
        "test_data = TransformDataset(test_data, transform = test_transform)"
      ],
      "metadata": {
        "execution": {
          "iopub.status.busy": "2024-08-18T10:23:16.191677Z",
          "iopub.status.idle": "2024-08-18T10:23:16.19206Z",
          "shell.execute_reply.started": "2024-08-18T10:23:16.191855Z",
          "shell.execute_reply": "2024-08-18T10:23:16.191869Z"
        },
        "trusted": true,
        "id": "pcsDo8ogA47U"
      },
      "execution_count": null,
      "outputs": []
    },
    {
      "cell_type": "code",
      "source": [
        "means = []\n",
        "stds = []\n",
        "for img, _ in train_data:\n",
        "    means.append(torch.mean(img, [1, 2]).tolist())\n",
        "    stds.append(torch.std(img, [1, 2]).tolist())\n",
        "\n",
        "mean = torch.mean(torch.tensor(means), [0])\n",
        "std = torch.mean(torch.tensor(stds), [0])\n",
        "\n",
        "mean, std"
      ],
      "metadata": {
        "execution": {
          "iopub.status.busy": "2024-08-18T10:23:16.193081Z",
          "iopub.status.idle": "2024-08-18T10:23:16.193431Z",
          "shell.execute_reply.started": "2024-08-18T10:23:16.193261Z",
          "shell.execute_reply": "2024-08-18T10:23:16.193276Z"
        },
        "trusted": true,
        "id": "XlHHJP-2A47V"
      },
      "execution_count": null,
      "outputs": []
    },
    {
      "cell_type": "code",
      "source": [
        "img.shape"
      ],
      "metadata": {
        "execution": {
          "iopub.status.busy": "2024-08-18T10:23:16.195282Z",
          "iopub.status.idle": "2024-08-18T10:23:16.195644Z",
          "shell.execute_reply.started": "2024-08-18T10:23:16.195469Z",
          "shell.execute_reply": "2024-08-18T10:23:16.195484Z"
        },
        "trusted": true,
        "id": "vt7FyXTKA47W"
      },
      "execution_count": null,
      "outputs": []
    },
    {
      "cell_type": "code",
      "source": [
        "batch_size = 256\n",
        "train_loader = torch.utils.data.DataLoader(train_data, shuffle=True, batch_size=batch_size)\n",
        "test_loader = torch.utils.data.DataLoader(test_data, shuffle=True, batch_size=batch_size)"
      ],
      "metadata": {
        "execution": {
          "iopub.status.busy": "2024-08-18T10:23:16.197501Z",
          "iopub.status.idle": "2024-08-18T10:23:16.19803Z",
          "shell.execute_reply.started": "2024-08-18T10:23:16.197756Z",
          "shell.execute_reply": "2024-08-18T10:23:16.197776Z"
        },
        "trusted": true,
        "id": "Mzt_geDVA47W"
      },
      "execution_count": null,
      "outputs": []
    },
    {
      "cell_type": "code",
      "source": [
        "from torchvision import models\n",
        "\n",
        "vgg19 = models.vgg19_bn(pretrained=True)\n",
        "vgg19"
      ],
      "metadata": {
        "execution": {
          "iopub.status.busy": "2024-08-18T10:23:16.199882Z",
          "iopub.status.idle": "2024-08-18T10:23:16.200392Z",
          "shell.execute_reply.started": "2024-08-18T10:23:16.200139Z",
          "shell.execute_reply": "2024-08-18T10:23:16.200159Z"
        },
        "trusted": true,
        "id": "hIy6lE4eA47X"
      },
      "execution_count": null,
      "outputs": []
    },
    {
      "cell_type": "code",
      "source": [
        "from torch import nn\n",
        "import torch.nn.functional as F\n",
        "import numpy as np\n",
        "\n",
        "\n",
        "class TransferLearningClassifier(nn.Module):\n",
        "    def __init__(self, num_classes=10):\n",
        "        super().__init__()\n",
        "\n",
        "        vgg = models.vgg19_bn(pretrained=True)\n",
        "\n",
        "        # від'єднання градієнтів\n",
        "        for param in vgg.parameters():\n",
        "            param.requires_grad = False\n",
        "\n",
        "        # кількість нейронів на виході\n",
        "        in_features = vgg.classifier[0].in_features\n",
        "\n",
        "        # деактивація останнього шару\n",
        "        vgg.classifier = nn.Identity()\n",
        "\n",
        "        # створення потрібних шарів\n",
        "        self.feature_extractor = vgg\n",
        "\n",
        "        self.dropout = nn.Dropout(0.2)\n",
        "        self.linear = nn.Linear(in_features, num_classes)\n",
        "\n",
        "\n",
        "    def forward(self, x):\n",
        "        out = self.feature_extractor(x) # (batch, in_features)\n",
        "\n",
        "        out = self.dropout(out)\n",
        "        out = self.linear(out)\n",
        "\n",
        "        return out\n",
        "\n",
        "\n",
        "    def predict(self, X, device='cpu'):\n",
        "        X = torch.FloatTensor(np.array(X)).to(device)\n",
        "\n",
        "        with torch.no_grad():\n",
        "            y_pred = F.softmax(self.forward(X), dim=-1)\n",
        "\n",
        "        return y_pred.cpu().numpy()\n",
        "\n",
        "\n",
        "model = TransferLearningClassifier(len(dataset.classes)).to(device)"
      ],
      "metadata": {
        "execution": {
          "iopub.status.busy": "2024-08-18T10:23:16.201693Z",
          "iopub.status.idle": "2024-08-18T10:23:16.202088Z",
          "shell.execute_reply.started": "2024-08-18T10:23:16.201872Z",
          "shell.execute_reply": "2024-08-18T10:23:16.201887Z"
        },
        "trusted": true,
        "id": "IiyCcFyuA47X"
      },
      "execution_count": null,
      "outputs": []
    },
    {
      "cell_type": "code",
      "source": [
        "!pip install torchsummary"
      ],
      "metadata": {
        "execution": {
          "iopub.status.busy": "2024-08-18T10:23:16.203783Z",
          "iopub.status.idle": "2024-08-18T10:23:16.204285Z",
          "shell.execute_reply.started": "2024-08-18T10:23:16.204031Z",
          "shell.execute_reply": "2024-08-18T10:23:16.204052Z"
        },
        "trusted": true,
        "id": "PcPBCv-NA47X"
      },
      "execution_count": null,
      "outputs": []
    },
    {
      "cell_type": "code",
      "source": [
        "from torchsummary import summary\n",
        "model = TransferLearningClassifier(num_classes).to(device)\n",
        "summary(model, input_size=(3, 224, 224))"
      ],
      "metadata": {
        "execution": {
          "iopub.status.busy": "2024-08-18T10:23:16.205645Z",
          "iopub.status.idle": "2024-08-18T10:23:16.206137Z",
          "shell.execute_reply.started": "2024-08-18T10:23:16.205871Z",
          "shell.execute_reply": "2024-08-18T10:23:16.205892Z"
        },
        "trusted": true,
        "id": "xieXsj9-A47Y"
      },
      "execution_count": null,
      "outputs": []
    }
  ]
}