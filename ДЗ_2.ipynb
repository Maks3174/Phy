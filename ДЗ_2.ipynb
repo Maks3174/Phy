{
  "nbformat": 4,
  "nbformat_minor": 0,
  "metadata": {
    "colab": {
      "provenance": [],
      "toc_visible": true,
      "include_colab_link": true
    },
    "kernelspec": {
      "name": "python3",
      "display_name": "Python 3"
    },
    "language_info": {
      "name": "python"
    }
  },
  "cells": [
    {
      "cell_type": "markdown",
      "metadata": {
        "id": "view-in-github",
        "colab_type": "text"
      },
      "source": [
        "<a href=\"https://colab.research.google.com/github/Maks3174/Phy/blob/main/%D0%94%D0%97_2.ipynb\" target=\"_parent\"><img src=\"https://colab.research.google.com/assets/colab-badge.svg\" alt=\"Open In Colab\"/></a>"
      ]
    },
    {
      "cell_type": "markdown",
      "source": [
        "Імпортуйте модуль numpy"
      ],
      "metadata": {
        "id": "tk2sNnUDkXK9"
      }
    },
    {
      "cell_type": "code",
      "source": [
        "import numpy as np"
      ],
      "metadata": {
        "id": "1QbCsQ62kUmZ"
      },
      "execution_count": 1,
      "outputs": []
    },
    {
      "cell_type": "markdown",
      "source": [
        "#Завдання 1\n",
        "\n",
        "Створіть масив з парними числами між 30 і 70"
      ],
      "metadata": {
        "id": "ZVC4Yb3JZFO1"
      }
    },
    {
      "cell_type": "code",
      "source": [
        "even_numbers = np.arange(30, 71, 2)\n",
        "print(even_numbers)\n"
      ],
      "metadata": {
        "id": "aunm4Jm_hUkL",
        "outputId": "255dc901-f88c-42b2-f349-ccef4e9d3ab2",
        "colab": {
          "base_uri": "https://localhost:8080/"
        }
      },
      "execution_count": 2,
      "outputs": [
        {
          "output_type": "stream",
          "name": "stdout",
          "text": [
            "[30 32 34 36 38 40 42 44 46 48 50 52 54 56 58 60 62 64 66 68 70]\n"
          ]
        }
      ]
    },
    {
      "cell_type": "markdown",
      "source": [
        "#Завдання 2\n",
        "Створіть масив з 10 числами між 0(включно) та 1(не включно) див документацію"
      ],
      "metadata": {
        "id": "UDSLr3f0b31r"
      }
    },
    {
      "cell_type": "code",
      "source": [
        "random_numbers = np.linspace(0, 1, 11, endpoint=False)[1:]\n",
        "print(random_numbers)"
      ],
      "metadata": {
        "id": "w7iNkGd_hUM-",
        "outputId": "ba1f984a-9ba4-431f-85d9-01015759f9ad",
        "colab": {
          "base_uri": "https://localhost:8080/"
        }
      },
      "execution_count": 3,
      "outputs": [
        {
          "output_type": "stream",
          "name": "stdout",
          "text": [
            "[0.09090909 0.18181818 0.27272727 0.36363636 0.45454545 0.54545455\n",
            " 0.63636364 0.72727273 0.81818182 0.90909091]\n"
          ]
        }
      ]
    },
    {
      "cell_type": "markdown",
      "source": [
        "#Завдання 4\n",
        "Напишіть функцію яка приймає матрицю розміру nxn та повертає матрицю розміру (n+2) x (n+2), на краях якої розміщенні 0."
      ],
      "metadata": {
        "id": "rtWKmLWhYi_j"
      }
    },
    {
      "cell_type": "code",
      "source": [
        "def add_border(matrix):\n",
        "    n = matrix.shape[0]\n",
        "    new_matrix = np.zeros((n + 2, n + 2))\n",
        "    new_matrix[1:-1, 1:-1] = matrix\n",
        "    return new_matrix\n",
        "\n",
        "matrix = np.array([[1, 2], [3, 4]])\n",
        "new_matrix = add_border(matrix)\n",
        "print(new_matrix)\n"
      ],
      "metadata": {
        "id": "mU7vjsnqhVfk",
        "colab": {
          "base_uri": "https://localhost:8080/"
        },
        "outputId": "ab3ec974-2753-42a0-9f10-c20f71cb1348"
      },
      "execution_count": 4,
      "outputs": [
        {
          "output_type": "stream",
          "name": "stdout",
          "text": [
            "[[0. 0. 0. 0.]\n",
            " [0. 1. 2. 0.]\n",
            " [0. 3. 4. 0.]\n",
            " [0. 0. 0. 0.]]\n"
          ]
        }
      ]
    },
    {
      "cell_type": "markdown",
      "source": [
        "#Завдання 5\n",
        "У попередьньому масиві змініть тип даних. Виведіть тип даних до та після зміни"
      ],
      "metadata": {
        "id": "ok_hMAEJa9oh"
      }
    },
    {
      "cell_type": "code",
      "source": [
        "before_dtype = new_matrix.dtype\n",
        "print(f\"Тип даних до зміни: {before_dtype}\")\n",
        "\n",
        "new_matrix = new_matrix.astype(int)\n",
        "\n",
        "after_dtype = new_matrix.dtype\n",
        "print(f\"Тип даних після зміни: {after_dtype}\")\n"
      ],
      "metadata": {
        "id": "vYlj3r3ShV98",
        "outputId": "19c27926-37b0-4b76-defd-0ac5db2bcc79",
        "colab": {
          "base_uri": "https://localhost:8080/"
        }
      },
      "execution_count": 5,
      "outputs": [
        {
          "output_type": "stream",
          "name": "stdout",
          "text": [
            "Тип даних до зміни: float64\n",
            "Тип даних після зміни: int64\n"
          ]
        }
      ]
    },
    {
      "cell_type": "markdown",
      "source": [
        "#Завдання 6\n",
        "У даному масиві замініть елементи, які дорівнюють\\більші\\менші за var на -1"
      ],
      "metadata": {
        "id": "aR7TWyqgZUDg"
      }
    },
    {
      "cell_type": "code",
      "source": [
        "x = np.array([1, 5, 3, 8, 6, 5, 7, 4])\n",
        "var = 5\n",
        "\n",
        "x = np.where(x == var, -1, np.where(x > var, -1, np.where(x < var, -1, x)))\n",
        "print(x)"
      ],
      "metadata": {
        "id": "oPzL69Fbg2Wq",
        "outputId": "ad825a1f-7454-470c-aeaf-228220955838",
        "colab": {
          "base_uri": "https://localhost:8080/"
        }
      },
      "execution_count": 8,
      "outputs": [
        {
          "output_type": "stream",
          "name": "stdout",
          "text": [
            "[-1 -1 -1 -1 -1 -1 -1 -1]\n"
          ]
        }
      ]
    },
    {
      "cell_type": "markdown",
      "source": [
        "#Завдання 7\n",
        "Замініть пропущені значення матриці(np.nan) на -1\n",
        "\n",
        "Дивись np.isnan"
      ],
      "metadata": {
        "id": "Ks3Rtc7kajMJ"
      }
    },
    {
      "cell_type": "code",
      "source": [
        "X = np.array([[1, 2, np.nan, 4],\n",
        "              [5, np.nan, np.nan, 4],\n",
        "              [np.nan, 10, 11, np.nan]])\n",
        "\n",
        "X[np.isnan(X)] = -1\n",
        "\n",
        "print(X)"
      ],
      "metadata": {
        "id": "Rr8CdINEg3Rj",
        "outputId": "3e98948a-3e82-4818-f608-3238b01cb135",
        "colab": {
          "base_uri": "https://localhost:8080/"
        }
      },
      "execution_count": 9,
      "outputs": [
        {
          "output_type": "stream",
          "name": "stdout",
          "text": [
            "[[ 1.  2. -1.  4.]\n",
            " [ 5. -1. -1.  4.]\n",
            " [-1. 10. 11. -1.]]\n"
          ]
        }
      ]
    },
    {
      "cell_type": "markdown",
      "source": [
        "#Завдання 8\n",
        "Створіть матрицю розміру 4х6 з випадковими числами. Змініть її розмір на 3х8"
      ],
      "metadata": {
        "id": "teYwjikMa0gs"
      }
    },
    {
      "cell_type": "code",
      "source": [
        "matrix = np.random.rand(4, 6)\n",
        "print(\"Початкова матриця 4x6:\")\n",
        "print(matrix)\n",
        "\n",
        "# Зміна розміру матриці на 3x8\n",
        "reshaped_matrix = np.resize(matrix, (3, 8))\n",
        "print(\"\\nМатриця після зміни розміру на 3x8:\")\n",
        "print(reshaped_matrix)"
      ],
      "metadata": {
        "id": "JhNvUJwxhXED",
        "outputId": "af8afb56-f498-4b51-9e01-bc56c3b542be",
        "colab": {
          "base_uri": "https://localhost:8080/"
        }
      },
      "execution_count": 10,
      "outputs": [
        {
          "output_type": "stream",
          "name": "stdout",
          "text": [
            "Початкова матриця 4x6:\n",
            "[[0.35457697 0.95775553 0.12445895 0.41956055 0.02742238 0.47778037]\n",
            " [0.19337472 0.87885567 0.52531947 0.49252172 0.5337568  0.2374712 ]\n",
            " [0.34409454 0.46487784 0.26098067 0.57032548 0.45284917 0.91608793]\n",
            " [0.21664915 0.0230001  0.58583759 0.79660666 0.39488684 0.93263186]]\n",
            "\n",
            "Матриця після зміни розміру на 3x8:\n",
            "[[0.35457697 0.95775553 0.12445895 0.41956055 0.02742238 0.47778037\n",
            "  0.19337472 0.87885567]\n",
            " [0.52531947 0.49252172 0.5337568  0.2374712  0.34409454 0.46487784\n",
            "  0.26098067 0.57032548]\n",
            " [0.45284917 0.91608793 0.21664915 0.0230001  0.58583759 0.79660666\n",
            "  0.39488684 0.93263186]]\n"
          ]
        }
      ]
    },
    {
      "cell_type": "markdown",
      "source": [
        "#Завдання 9\n",
        "Створіть матрицю з одиниць розміром 3х4. Знайдіть середнє арифметичне(mean) кожного стовпчика"
      ],
      "metadata": {
        "id": "jVE8280acszi"
      }
    },
    {
      "cell_type": "code",
      "source": [
        "matrix = np.ones((3, 4))\n",
        "print(\"Матриця 3x4 з одиниць:\")\n",
        "print(matrix)\n",
        "\n",
        "mean_values = np.mean(matrix, axis=0)\n",
        "print(\"\\nСереднє арифметичне кожного стовпчика:\")\n",
        "print(mean_values)"
      ],
      "metadata": {
        "id": "5QI6HPNHhXd4",
        "outputId": "b2ac1503-9426-4367-be85-49b45e8c2d91",
        "colab": {
          "base_uri": "https://localhost:8080/"
        }
      },
      "execution_count": 12,
      "outputs": [
        {
          "output_type": "stream",
          "name": "stdout",
          "text": [
            "Матриця 3x4 з одиниць:\n",
            "[[1. 1. 1. 1.]\n",
            " [1. 1. 1. 1.]\n",
            " [1. 1. 1. 1.]]\n",
            "\n",
            "Середнє арифметичне кожного стовпчика:\n",
            "[1. 1. 1. 1.]\n"
          ]
        }
      ]
    },
    {
      "cell_type": "markdown",
      "source": [
        "#Завдання 10\n",
        "Створіть випадкову матрицю розміром 5х6. Округліть значення до одного знаку після коми(np.round). Розмістіть стовпчики так, щоб значення в першому рядку були відсортовані за зростанням"
      ],
      "metadata": {
        "id": "nK6LwLjfc9aC"
      }
    },
    {
      "cell_type": "code",
      "source": [
        "random_matrix = np.random.rand(5, 6) * 100\n",
        "\n",
        "rounded_matrix = np.round(random_matrix, 1)\n",
        "\n",
        "sorted_column_indices = np.argsort(rounded_matrix[0])\n",
        "\n",
        "sorted_matrix = rounded_matrix[:, sorted_column_indices]\n",
        "\n",
        "print(\"Випадкова матриця:\\n\", rounded_matrix)\n",
        "print(\"\\nМатриця з відсортованими стовпчиками:\\n\", sorted_matrix)\n"
      ],
      "metadata": {
        "id": "pERBNp12hX58",
        "outputId": "fdb34e82-b68d-459b-d58f-d04b09c7729a",
        "colab": {
          "base_uri": "https://localhost:8080/"
        }
      },
      "execution_count": 13,
      "outputs": [
        {
          "output_type": "stream",
          "name": "stdout",
          "text": [
            "Випадкова матриця:\n",
            " [[52.8 72.6 34.7  4.4 40.2 15.8]\n",
            " [57.9 63.4 50.8 76.8 23.8  5.4]\n",
            " [37.5 10.1 20.1  6.1 35.9 13.3]\n",
            " [69.3 98.6 74.6  6.3 59.1  2.5]\n",
            " [94.9 78.1 91.  30.6 45.5 63.3]]\n",
            "\n",
            "Матриця з відсортованими стовпчиками:\n",
            " [[ 4.4 15.8 34.7 40.2 52.8 72.6]\n",
            " [76.8  5.4 50.8 23.8 57.9 63.4]\n",
            " [ 6.1 13.3 20.1 35.9 37.5 10.1]\n",
            " [ 6.3  2.5 74.6 59.1 69.3 98.6]\n",
            " [30.6 63.3 91.  45.5 94.9 78.1]]\n"
          ]
        }
      ]
    },
    {
      "cell_type": "markdown",
      "source": [
        "#Завдання 11\n",
        "В даній матриці знайдіть всі елементи зі значенням між 3 і 6\n",
        "\n",
        "Дивись документацію np.logical_and"
      ],
      "metadata": {
        "id": "faCqq4bxiXsg"
      }
    },
    {
      "cell_type": "code",
      "source": [
        "X = np.array([[1, 2, 3, 4, 5],\n",
        "              [6, 7, 8, 9, 10],\n",
        "              [9, 8, 7, 6, 5],\n",
        "              [4, 3, 2, 1, 0]])\n",
        "\n",
        "result = X[np.logical_and(X >= 3, X <= 6)]\n",
        "\n",
        "print(\"Елементи зі значенням між 3 і 6:\", result)"
      ],
      "metadata": {
        "id": "01ZY_c-tilOF",
        "outputId": "5fad78f3-0d62-45c9-dc04-fb96a1675907",
        "colab": {
          "base_uri": "https://localhost:8080/"
        }
      },
      "execution_count": 15,
      "outputs": [
        {
          "output_type": "stream",
          "name": "stdout",
          "text": [
            "Елементи зі значенням між 3 і 6: [3 4 5 6 6 5 4 3]\n"
          ]
        }
      ]
    },
    {
      "cell_type": "markdown",
      "source": [
        "#Завдання 12\n",
        "Створіть випадкову матрицю розміру 5х6. Нормалізуйте стовпчики: від кожного елемента ставпчика відніміть мінімальне значення та поділіть результат на різницю між максимальним та мінімальним елементом цього стовпчика.\n",
        "\n",
        "Після цього всі значення мають бути в межах [0, 1]"
      ],
      "metadata": {
        "id": "cCZSaa3DMKxb"
      }
    },
    {
      "cell_type": "code",
      "source": [
        "random_matrix = np.random.rand(5, 6) * 100\n",
        "\n",
        "min_values = np.min(random_matrix, axis=0)\n",
        "max_values = np.max(random_matrix, axis=0)\n",
        "\n",
        "diff = max_values - min_values\n",
        "\n",
        "normalized_matrix = (random_matrix - min_values) / diff\n",
        "\n",
        "print(\"Випадкова матриця:\\n\", random_matrix)\n",
        "print(\"\\nНормалізована матриця (значення в межах [0, 1]):\\n\", normalized_matrix)"
      ],
      "metadata": {
        "id": "qnOYOAgOMqRi",
        "outputId": "3886df9a-e780-421e-d730-e2a5aa141fd0",
        "colab": {
          "base_uri": "https://localhost:8080/"
        }
      },
      "execution_count": 16,
      "outputs": [
        {
          "output_type": "stream",
          "name": "stdout",
          "text": [
            "Випадкова матриця:\n",
            " [[ 7.34047352 41.8453103  48.66806796 91.48310156 35.38054721 41.5695347 ]\n",
            " [96.62481635 23.35897006 59.29102895 84.08549223 30.81292375 69.96770691]\n",
            " [84.98197834 60.52119769 30.12006192 95.53936779 31.15635978 61.04071581]\n",
            " [32.26179248 38.56809152 13.78331828 81.62869939 37.6659085   1.38693469]\n",
            " [83.44804642 70.47334659 23.40226397 66.1435353  47.3290068  99.58131092]]\n",
            "\n",
            "Нормалізована матриця (значення в межах [0, 1]):\n",
            " [[0.         0.39237153 0.76656789 0.8620122  0.2765561  0.40921488]\n",
            " [1.         0.         1.         0.61035716 0.         0.69841853]\n",
            " [0.86959821 0.7887662  0.35898847 1.         0.02079404 0.6075071 ]\n",
            " [0.27912306 0.32281275 0.         0.52678093 0.41492797 0.        ]\n",
            " [0.85241791 1.         0.21136958 0.         1.         1.        ]]\n"
          ]
        }
      ]
    }
  ]
}