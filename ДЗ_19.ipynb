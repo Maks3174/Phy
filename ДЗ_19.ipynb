{
  "nbformat": 4,
  "nbformat_minor": 0,
  "metadata": {
    "colab": {
      "provenance": [],
      "include_colab_link": true
    },
    "kernelspec": {
      "name": "python3",
      "display_name": "Python 3"
    },
    "language_info": {
      "name": "python"
    }
  },
  "cells": [
    {
      "cell_type": "markdown",
      "metadata": {
        "id": "view-in-github",
        "colab_type": "text"
      },
      "source": [
        "<a href=\"https://colab.research.google.com/github/Maks3174/Phy/blob/main/%D0%94%D0%97_19.ipynb\" target=\"_parent\"><img src=\"https://colab.research.google.com/assets/colab-badge.svg\" alt=\"Open In Colab\"/></a>"
      ]
    },
    {
      "cell_type": "markdown",
      "source": [
        "# Завдання 1\n",
        "Напишіть функцію, яка повертає список фраз з тексту, які відповідають певному шоблону. При необхідності можете добавити власні параметри.\n",
        "\n",
        "Протестуйте функцію на якомусь тексті."
      ],
      "metadata": {
        "id": "D56Rwjf4EXC_"
      }
    },
    {
      "cell_type": "code",
      "source": [
        "import re\n",
        "import nltk\n",
        "from nltk import pos_tag, word_tokenize, RegexpParser\n",
        "\n",
        "nltk.download('punkt')\n",
        "nltk.download('averaged_perceptron_tagger')\n",
        "\n",
        "def get_phrases(text, regex, tag_name):\n",
        "    \"\"\"\n",
        "    Возвращает список фраз из текста, которые соответствуют регулярному выражению.\n",
        "\n",
        "    Параметры:\n",
        "      text: str - исходный текст\n",
        "      regex: str - регулярное выражение\n",
        "      tag_name: str - имя тега, которое используется в дереве nltk\n",
        "\n",
        "    Возвращает:\n",
        "      phrases: list[str] - список фраз\n",
        "    \"\"\"\n",
        "    words = word_tokenize(text)\n",
        "    tagged_words = pos_tag(words)\n",
        "\n",
        "    parser = RegexpParser(regex)\n",
        "\n",
        "    tree = parser.parse(tagged_words)\n",
        "\n",
        "    phrases = []\n",
        "\n",
        "    for subtree in tree.subtrees():\n",
        "        if subtree.label() == tag_name:\n",
        "            phrase = \" \".join(word for word, tag in subtree.leaves())\n",
        "            phrases.append(phrase)\n",
        "\n",
        "    return phrases\n",
        "\n",
        "text = \"The quick brown fox jumps over the lazy dog. Bright and early in the morning, she started her day.\"\n",
        "regex = r'NP: {<DT>?<JJ>*<NN>}'\n",
        "tag_name = 'NP'\n",
        "\n",
        "phrases = get_phrases(text, regex, tag_name)\n",
        "print(phrases)\n"
      ],
      "metadata": {
        "id": "G4Stff_zFQjv",
        "outputId": "294bfc1d-6429-46c9-9c44-0a3917873b76",
        "colab": {
          "base_uri": "https://localhost:8080/"
        }
      },
      "execution_count": 1,
      "outputs": [
        {
          "output_type": "stream",
          "name": "stderr",
          "text": [
            "[nltk_data] Downloading package punkt to /root/nltk_data...\n",
            "[nltk_data]   Unzipping tokenizers/punkt.zip.\n",
            "[nltk_data] Downloading package averaged_perceptron_tagger to\n",
            "[nltk_data]     /root/nltk_data...\n",
            "[nltk_data]   Unzipping taggers/averaged_perceptron_tagger.zip.\n"
          ]
        },
        {
          "output_type": "stream",
          "name": "stdout",
          "text": [
            "['The quick brown', 'fox', 'the lazy dog', 'the morning', 'day']\n"
          ]
        }
      ]
    }
  ]
}