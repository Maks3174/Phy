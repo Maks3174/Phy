{
  "nbformat": 4,
  "nbformat_minor": 0,
  "metadata": {
    "colab": {
      "provenance": [],
      "include_colab_link": true
    },
    "kernelspec": {
      "name": "python3",
      "display_name": "Python 3"
    },
    "language_info": {
      "name": "python"
    }
  },
  "cells": [
    {
      "cell_type": "markdown",
      "metadata": {
        "id": "view-in-github",
        "colab_type": "text"
      },
      "source": [
        "<a href=\"https://colab.research.google.com/github/Maks3174/Phy/blob/main/%D0%9F%D1%80%D0%B0%D0%BA%D1%82%D0%B8%D0%BA%D0%B0_pandas.ipynb\" target=\"_parent\"><img src=\"https://colab.research.google.com/assets/colab-badge.svg\" alt=\"Open In Colab\"/></a>"
      ]
    },
    {
      "cell_type": "markdown",
      "source": [
        "Імпорт модуля pandas"
      ],
      "metadata": {
        "id": "ikzNvEQx0XKG"
      }
    },
    {
      "cell_type": "code",
      "execution_count": 10,
      "metadata": {
        "id": "fzkEy73a0Rl8"
      },
      "outputs": [],
      "source": [
        "import pandas as pd"
      ]
    },
    {
      "cell_type": "markdown",
      "source": [
        "Дані про пасажирів корабля:\n",
        "* pclass -- клас білета(перший, другий або третій)\n",
        "* sex -- стать\n",
        "* age -- вік\n",
        "* sibsp -- кількість братів\\сестер та чоловіків\\дружин на борту\n",
        "* parch -- кількість дітей та батьків на борту\n",
        "* fare -- вартість поїздки\n",
        "* embarked -- Порт посадки (C = Шербур, Q = Квінстаун, S = Саутгемптон)\n"
      ],
      "metadata": {
        "id": "RoUDr2wi1D7y"
      }
    },
    {
      "cell_type": "code",
      "source": [
        "df = pd.read_csv(\"https://raw.githubusercontent.com/HalyshAnton/IT-Step-Pyton-AI/main/module2/data/ship_passengers.csv\",\n",
        "                 index_col=\"Unnamed: 0\")"
      ],
      "metadata": {
        "id": "sDI-qfUH0dBT"
      },
      "execution_count": 11,
      "outputs": []
    },
    {
      "cell_type": "markdown",
      "source": [
        "# Завдання 1\n",
        "\n",
        "Вивести загальну інформацію про таблицю: кількість рядків та стовпців, назви стовпців та їхній тип даних, в яких стовпцях є пропущені значення"
      ],
      "metadata": {
        "id": "_pD2l5vN43VF"
      }
    },
    {
      "cell_type": "code",
      "source": [
        "shape = df.shape\n",
        "print(\"Кількість рядків і стовпців:\", shape)\n",
        "\n",
        "dtypes = df.dtypes\n",
        "print(\"\\nНазви стовпців та їхні типи даних:\\n\", dtypes)\n",
        "\n",
        "missing_values = df.isnull().sum()\n",
        "missing_columns = missing_values[missing_values > 0]\n",
        "print(\"\\nСтовпці з пропущеними значеннями:\\n\", missing_columns)"
      ],
      "metadata": {
        "id": "n-BkudKiWhW_",
        "outputId": "53f3eb72-a839-4324-9d35-e32909713007",
        "colab": {
          "base_uri": "https://localhost:8080/"
        }
      },
      "execution_count": 22,
      "outputs": [
        {
          "output_type": "stream",
          "name": "stdout",
          "text": [
            "Кількість рядків і стовпців: (891, 6)\n",
            "\n",
            "Назви стовпців та їхні типи даних:\n",
            " pclass         int64\n",
            "sex           object\n",
            "sibsp          int64\n",
            "parch          int64\n",
            "fare         float64\n",
            "relatives      int64\n",
            "dtype: object\n",
            "\n",
            "Стовпці з пропущеними значеннями:\n",
            " Series([], dtype: int64)\n"
          ]
        }
      ]
    },
    {
      "cell_type": "markdown",
      "source": [
        "# Завдання 2\n",
        "Скільки пасажирів сіло у Квінстауні?"
      ],
      "metadata": {
        "id": "YVUQGjfXOLMo"
      }
    },
    {
      "cell_type": "code",
      "source": [
        "queenstown_passengers = df[df['embarked'] == 'Q'].shape[0]\n",
        "print(\"\\nКількість пасажирів, які сіли у Квінстауні:\", queenstown_passengers)"
      ],
      "metadata": {
        "id": "x4PMpTIlPYR5",
        "outputId": "66ea62b6-a4db-4234-98e3-8ad931411453",
        "colab": {
          "base_uri": "https://localhost:8080/"
        }
      },
      "execution_count": 14,
      "outputs": [
        {
          "output_type": "stream",
          "name": "stdout",
          "text": [
            "\n",
            "Кількість пасажирів, які сіли у Квінстауні: 77\n"
          ]
        }
      ]
    },
    {
      "cell_type": "markdown",
      "source": [
        "# Завдання 3\n",
        "Виведіть стать, вік та вартість поїздки для пасажирів з білетом першого класу"
      ],
      "metadata": {
        "id": "GUQxGeGZPaxq"
      }
    },
    {
      "cell_type": "code",
      "source": [
        "first_class_passengers = df[df['pclass'] == 1][['sex', 'age', 'fare']]\n",
        "print(\"\\nСтать, вік та вартість поїздки для пасажирів з білетом першого класу:\\n\", first_class_passengers)"
      ],
      "metadata": {
        "id": "XKIZYvdsRQSY",
        "outputId": "eead177c-bcaf-41ae-f599-c03f3201ef80",
        "colab": {
          "base_uri": "https://localhost:8080/"
        }
      },
      "execution_count": 15,
      "outputs": [
        {
          "output_type": "stream",
          "name": "stdout",
          "text": [
            "\n",
            "Стать, вік та вартість поїздки для пасажирів з білетом першого класу:\n",
            "         sex   age     fare\n",
            "1    female  38.0  71.2833\n",
            "3    female  35.0  53.1000\n",
            "6      male  54.0  51.8625\n",
            "11   female  58.0  26.5500\n",
            "23     male  28.0  35.5000\n",
            "..      ...   ...      ...\n",
            "871  female  47.0  52.5542\n",
            "872    male  33.0   5.0000\n",
            "879  female  56.0  83.1583\n",
            "887  female  19.0  30.0000\n",
            "889    male  26.0  30.0000\n",
            "\n",
            "[216 rows x 3 columns]\n"
          ]
        }
      ]
    },
    {
      "cell_type": "markdown",
      "source": [
        "# Завдання 4\n",
        "Ввиведіть дані про неповнолітніх чоловіків з Шербура"
      ],
      "metadata": {
        "id": "7S_Qh0hvRaVS"
      }
    },
    {
      "cell_type": "code",
      "source": [
        "underage_males_cherbourg = df[(df['sex'] == 'male') & (df['age'] < 18) & (df['embarked'] == 'C')]\n",
        "print(\"\\nДані про неповнолітніх чоловіків з Шербура:\\n\", underage_males_cherbourg)"
      ],
      "metadata": {
        "id": "mfOJmkOgRURj",
        "outputId": "f1604bef-7578-4bd6-800e-dddf17867f7d",
        "colab": {
          "base_uri": "https://localhost:8080/"
        }
      },
      "execution_count": 16,
      "outputs": [
        {
          "output_type": "stream",
          "name": "stdout",
          "text": [
            "\n",
            "Дані про неповнолітніх чоловіків з Шербура:\n",
            "      pclass   sex    age  sibsp  parch      fare embarked\n",
            "125       3  male  12.00      1      0   11.2417        C\n",
            "352       3  male  15.00      1      1    7.2292        C\n",
            "532       3  male  17.00      1      1    7.2292        C\n",
            "550       1  male  17.00      0      2  110.8833        C\n",
            "731       3  male  11.00      0      0   18.7875        C\n",
            "803       3  male   0.42      0      1    8.5167        C\n",
            "827       2  male   1.00      0      2   37.0042        C\n"
          ]
        }
      ]
    },
    {
      "cell_type": "markdown",
      "source": [
        "# Завдання 5\n",
        "Створіть новий стовпчик relatives -- загальна кількість родичів на борту для кожного пасажира"
      ],
      "metadata": {
        "id": "ZoF1nlueSptD"
      }
    },
    {
      "cell_type": "code",
      "source": [
        "df['relatives'] = df['sibsp'] + df['parch']\n",
        "print(\"\\nЗагальна кількість родичів на борту для кожного пасажира (перші 5 рядків):\\n\", df[['sibsp', 'parch', 'relatives']].head())"
      ],
      "metadata": {
        "id": "L1UXr-75WflB",
        "outputId": "fc388fab-490f-41b6-df4e-54ab1e86e17d",
        "colab": {
          "base_uri": "https://localhost:8080/"
        }
      },
      "execution_count": 17,
      "outputs": [
        {
          "output_type": "stream",
          "name": "stdout",
          "text": [
            "\n",
            "Загальна кількість родичів на борту для кожного пасажира (перші 5 рядків):\n",
            "    sibsp  parch  relatives\n",
            "0      1      0          1\n",
            "1      1      0          1\n",
            "2      0      0          0\n",
            "3      1      0          1\n",
            "4      0      0          0\n"
          ]
        }
      ]
    },
    {
      "cell_type": "markdown",
      "source": [
        "# Завдання 6\n",
        "Видаліть стовпчик, в якому найбільше пропусків. Якщо пропущені значення ще залишаться, видаліть рядки з пропусками"
      ],
      "metadata": {
        "id": "GggTkcdOV3D0"
      }
    },
    {
      "cell_type": "code",
      "source": [
        "missing_values = df.isnull().sum()\n",
        "missing_columns = missing_values[missing_values > 0]\n",
        "\n",
        "if not missing_columns.empty:\n",
        "    column_with_most_missing = missing_columns.idxmax()\n",
        "    df.drop(columns=[column_with_most_missing], inplace=True)\n",
        "    print(f\"\\nВидалено стовпчик з найбільшою кількістю пропусків: {column_with_most_missing}\")\n",
        "\n",
        "df.dropna(inplace=True)\n",
        "\n",
        "print(\"\\nТаблиця після видалення стовпчика з найбільшою кількістю пропусків та рядків з пропусками (перші 5 рядків):\\n\", df.head())"
      ],
      "metadata": {
        "id": "TDeDRKJCSSpV",
        "outputId": "c68e7ef7-e5a5-4218-d0b9-632bdd712b62",
        "colab": {
          "base_uri": "https://localhost:8080/"
        }
      },
      "execution_count": 21,
      "outputs": [
        {
          "output_type": "stream",
          "name": "stdout",
          "text": [
            "\n",
            "Таблиця після видалення стовпчика з найбільшою кількістю пропусків та рядків з пропусками (перші 5 рядків):\n",
            "    pclass     sex  sibsp  parch     fare  relatives\n",
            "0       3    male      1      0   7.2500          1\n",
            "1       1  female      1      0  71.2833          1\n",
            "2       3  female      0      0   7.9250          0\n",
            "3       1  female      1      0  53.1000          1\n",
            "4       3    male      0      0   8.0500          0\n"
          ]
        }
      ]
    }
  ]
}