{
  "metadata": {
    "kernelspec": {
      "language": "python",
      "display_name": "Python 3",
      "name": "python3"
    },
    "language_info": {
      "name": "python",
      "version": "3.10.13",
      "mimetype": "text/x-python",
      "codemirror_mode": {
        "name": "ipython",
        "version": 3
      },
      "pygments_lexer": "ipython3",
      "nbconvert_exporter": "python",
      "file_extension": ".py"
    },
    "kaggle": {
      "accelerator": "none",
      "dataSources": [],
      "dockerImageVersionId": 30746,
      "isInternetEnabled": false,
      "language": "python",
      "sourceType": "notebook",
      "isGpuEnabled": false
    },
    "colab": {
      "name": "notebook9b32e9f729",
      "provenance": [],
      "include_colab_link": true
    }
  },
  "nbformat_minor": 0,
  "nbformat": 4,
  "cells": [
    {
      "cell_type": "markdown",
      "metadata": {
        "id": "view-in-github",
        "colab_type": "text"
      },
      "source": [
        "<a href=\"https://colab.research.google.com/github/Maks3174/Phy/blob/main/notebook9b32e9f729.ipynb\" target=\"_parent\"><img src=\"https://colab.research.google.com/assets/colab-badge.svg\" alt=\"Open In Colab\"/></a>"
      ]
    },
    {
      "cell_type": "code",
      "source": [
        "import torch\n",
        "from torchvision import datasets, transforms\n",
        "device = \"cuda\" if torch.cuda.is_available() else \"cpu\""
      ],
      "metadata": {
        "trusted": true,
        "id": "vJM0B1KBCBzh"
      },
      "execution_count": null,
      "outputs": []
    },
    {
      "cell_type": "code",
      "source": [
        "data_dir = '/kaggle/input/fruit-recognition/train/train'\n",
        "dataset = datasets.ImageFolder(root=data_dir)\n",
        "len(dataset)"
      ],
      "metadata": {
        "execution": {
          "iopub.status.busy": "2024-08-18T10:27:34.694935Z",
          "iopub.execute_input": "2024-08-18T10:27:34.696085Z",
          "iopub.status.idle": "2024-08-18T10:27:34.798671Z",
          "shell.execute_reply.started": "2024-08-18T10:27:34.696038Z",
          "shell.execute_reply": "2024-08-18T10:27:34.795279Z"
        },
        "trusted": true,
        "id": "u41zanadCBzi"
      },
      "execution_count": null,
      "outputs": []
    },
    {
      "cell_type": "code",
      "source": [
        "dataset.classes"
      ],
      "metadata": {
        "execution": {
          "iopub.status.busy": "2024-08-18T10:27:34.799767Z",
          "iopub.status.idle": "2024-08-18T10:27:34.800209Z",
          "shell.execute_reply.started": "2024-08-18T10:27:34.80001Z",
          "shell.execute_reply": "2024-08-18T10:27:34.800028Z"
        },
        "trusted": true,
        "id": "KtKQrAtnCBzj"
      },
      "execution_count": null,
      "outputs": []
    },
    {
      "cell_type": "code",
      "source": [
        "from torch.utils.data import random_split\n",
        "\n",
        "train_ratio = 0.8\n",
        "\n",
        "train_data, test_data = random_split(dataset, [train_ratio, 1-train_ratio])"
      ],
      "metadata": {
        "execution": {
          "iopub.status.busy": "2024-08-18T10:27:34.801861Z",
          "iopub.status.idle": "2024-08-18T10:27:34.802455Z",
          "shell.execute_reply.started": "2024-08-18T10:27:34.80215Z",
          "shell.execute_reply": "2024-08-18T10:27:34.802176Z"
        },
        "trusted": true,
        "id": "2oWD8YXrCBzj"
      },
      "execution_count": null,
      "outputs": []
    },
    {
      "cell_type": "code",
      "source": [
        "train_transform = transforms.Compose([\n",
        "    transforms.Resize((224, 224)),\n",
        "    transforms.RandomHorizontalFlip(p=0.5),\n",
        "    transforms.ToTensor(),\n",
        "    transforms.Normalize(mean=[0.3517, 0.3557, 0.3570],\n",
        "                         std=[0.2325, 0.2347, 0.2353])\n",
        "])\n",
        "\n",
        "test_transform = transforms.Compose([\n",
        "    transforms.Resize((224, 224)),\n",
        "    transforms.ToTensor(),\n",
        "    transforms.Normalize(mean=[0.3517, 0.3557, 0.3570],\n",
        "                         std=[0.2325, 0.2347, 0.2353])\n",
        "])\n",
        "\n",
        "\n",
        "class TransformDataset(torch.utils.data.Dataset):\n",
        "    def __init__(self, subset, transform=None):\n",
        "        self.subset = subset\n",
        "        self.transform = transform\n",
        "\n",
        "    def __getitem__(self, index):\n",
        "        x, y = self.subset[index]\n",
        "        if self.transform:\n",
        "            x = self.transform(x)\n",
        "        return x, y\n",
        "\n",
        "    def __len__(self):\n",
        "        return len(self.subset)\n",
        "\n",
        "\n",
        "train_data = TransformDataset(train_data, transform = train_transform)\n",
        "test_data = TransformDataset(test_data, transform = test_transform)"
      ],
      "metadata": {
        "execution": {
          "iopub.status.busy": "2024-08-18T10:27:34.805718Z",
          "iopub.status.idle": "2024-08-18T10:27:34.806854Z",
          "shell.execute_reply.started": "2024-08-18T10:27:34.806515Z",
          "shell.execute_reply": "2024-08-18T10:27:34.806543Z"
        },
        "trusted": true,
        "id": "Hdsjsjr5CBzk"
      },
      "execution_count": null,
      "outputs": []
    },
    {
      "cell_type": "code",
      "source": [
        "means = []\n",
        "stds = []\n",
        "for img, _ in train_data:\n",
        "    means.append(torch.mean(img, [1, 2]).tolist())\n",
        "    stds.append(torch.std(img, [1, 2]).tolist())\n",
        "\n",
        "mean = torch.mean(torch.tensor(means), [0])\n",
        "std = torch.mean(torch.tensor(stds), [0])\n",
        "\n",
        "mean, std"
      ],
      "metadata": {
        "execution": {
          "iopub.status.busy": "2024-08-18T10:27:34.809229Z",
          "iopub.status.idle": "2024-08-18T10:27:34.809804Z",
          "shell.execute_reply.started": "2024-08-18T10:27:34.809503Z",
          "shell.execute_reply": "2024-08-18T10:27:34.809526Z"
        },
        "trusted": true,
        "id": "pj6CyCIhCBzk"
      },
      "execution_count": null,
      "outputs": []
    },
    {
      "cell_type": "code",
      "source": [
        "img.shape"
      ],
      "metadata": {
        "execution": {
          "iopub.status.busy": "2024-08-18T10:27:34.811658Z",
          "iopub.status.idle": "2024-08-18T10:27:34.812252Z",
          "shell.execute_reply.started": "2024-08-18T10:27:34.811955Z",
          "shell.execute_reply": "2024-08-18T10:27:34.811985Z"
        },
        "trusted": true,
        "id": "f6Io9beuCBzl"
      },
      "execution_count": null,
      "outputs": []
    },
    {
      "cell_type": "code",
      "source": [
        "batch_size = 256\n",
        "\n",
        "train_loader = torch.utils.data.DataLoader(train_data, shuffle=True, batch_size=batch_size)\n",
        "test_loader = torch.utils.data.DataLoader(test_data, shuffle=True, batch_size=batch_size)"
      ],
      "metadata": {
        "execution": {
          "iopub.status.busy": "2024-08-18T10:27:34.814115Z",
          "iopub.status.idle": "2024-08-18T10:27:34.81468Z",
          "shell.execute_reply.started": "2024-08-18T10:27:34.814385Z",
          "shell.execute_reply": "2024-08-18T10:27:34.81441Z"
        },
        "trusted": true,
        "id": "CF8OlhPSCBzl"
      },
      "execution_count": null,
      "outputs": []
    },
    {
      "cell_type": "code",
      "source": [
        "from torchvision import models\n",
        "\n",
        "vgg19 = models.vgg19_bn(pretrained=True)\n",
        "vgg19"
      ],
      "metadata": {
        "execution": {
          "iopub.status.busy": "2024-08-18T10:27:34.817097Z",
          "iopub.status.idle": "2024-08-18T10:27:34.817648Z",
          "shell.execute_reply.started": "2024-08-18T10:27:34.817365Z",
          "shell.execute_reply": "2024-08-18T10:27:34.817389Z"
        },
        "trusted": true,
        "id": "1ymllNHICBzl"
      },
      "execution_count": null,
      "outputs": []
    },
    {
      "cell_type": "code",
      "source": [
        "from torch import nn\n",
        "import torch.nn.functional as F\n",
        "import numpy as np\n",
        "\n",
        "\n",
        "class TransferLearningClassifier(nn.Module):\n",
        "    def __init__(self, num_classes=10):\n",
        "        super().__init__()\n",
        "\n",
        "        vgg = models.vgg19_bn(pretrained=True)\n",
        "\n",
        "        for param in vgg.parameters():\n",
        "            param.requires_grad = False\n",
        "\n",
        "\n",
        "        in_features = vgg.classifier[0].in_features\n",
        "\n",
        "        vgg.classifier = nn.Identity()\n",
        "\n",
        "        self.feature_extractor = vgg\n",
        "\n",
        "        self.dropout = nn.Dropout(0.2)\n",
        "        self.linear = nn.Linear(in_features, num_classes)\n",
        "\n",
        "\n",
        "    def forward(self, x):\n",
        "        out = self.feature_extractor(x) # (batch, in_features)\n",
        "\n",
        "        out = self.dropout(out)\n",
        "        out = self.linear(out)\n",
        "\n",
        "        return out\n",
        "\n",
        "\n",
        "    def predict(self, X, device='cpu'):\n",
        "        X = torch.FloatTensor(np.array(X)).to(device)\n",
        "\n",
        "        with torch.no_grad():\n",
        "            y_pred = F.softmax(self.forward(X), dim=-1)\n",
        "\n",
        "        return y_pred.cpu().numpy()\n",
        "\n",
        "\n",
        "model = TransferLearningClassifier(len(dataset.classes)).to(device)"
      ],
      "metadata": {
        "execution": {
          "iopub.status.busy": "2024-08-18T10:27:34.81919Z",
          "iopub.status.idle": "2024-08-18T10:27:34.820126Z",
          "shell.execute_reply.started": "2024-08-18T10:27:34.819839Z",
          "shell.execute_reply": "2024-08-18T10:27:34.819864Z"
        },
        "trusted": true,
        "id": "Bxg8IJPPCBzm"
      },
      "execution_count": null,
      "outputs": []
    },
    {
      "cell_type": "code",
      "source": [
        "!pip install -q torchsummary"
      ],
      "metadata": {
        "execution": {
          "iopub.status.busy": "2024-08-18T10:27:34.822046Z",
          "iopub.status.idle": "2024-08-18T10:27:34.823104Z",
          "shell.execute_reply.started": "2024-08-18T10:27:34.822814Z",
          "shell.execute_reply": "2024-08-18T10:27:34.822838Z"
        },
        "trusted": true,
        "id": "NDXHUPRrCBzm"
      },
      "execution_count": null,
      "outputs": []
    },
    {
      "cell_type": "code",
      "source": [
        "from torchsummary import summary\n",
        "\n",
        "summary(model, input_size=(3, 224, 224))"
      ],
      "metadata": {
        "execution": {
          "iopub.status.busy": "2024-08-18T10:27:34.825245Z",
          "iopub.status.idle": "2024-08-18T10:27:34.825808Z",
          "shell.execute_reply.started": "2024-08-18T10:27:34.825509Z",
          "shell.execute_reply": "2024-08-18T10:27:34.825532Z"
        },
        "trusted": true,
        "id": "lc8_fuTeCBzm"
      },
      "execution_count": null,
      "outputs": []
    },
    {
      "cell_type": "code",
      "source": [
        "import time\n",
        "\n",
        "def train(model, optimizer, loss_fn, train_dl, val_dl,\n",
        "          metrics=None, metrics_name=None, epochs=20, device='cpu', task='regression'):\n",
        "\n",
        "\n",
        "    print('train() called: model=%s, opt=%s(lr=%f), epochs=%d, device=%s\\n' % \\\n",
        "          (type(model).__name__, type(optimizer).__name__,\n",
        "           optimizer.param_groups[0]['lr'], epochs, device))\n",
        "\n",
        "    metrics = metrics if metrics else []\n",
        "    metrics_name = metrics_name if metrics_name else [metric.__name__ for metric in metrics]\n",
        "\n",
        "    history = {}\n",
        "    history['loss'] = []\n",
        "    history['val_loss'] = []\n",
        "    for name in metrics_name:\n",
        "        history[name] = []\n",
        "        history[f'val_{name}'] = []\n",
        "\n",
        "    start_time_train = time.time()\n",
        "\n",
        "    for epoch in range(epochs):\n",
        "\n",
        "\n",
        "        start_time_epoch = time.time()\n",
        "\n",
        "        model.train()\n",
        "        history_train = {name: 0 for name in ['loss']+metrics_name}\n",
        "\n",
        "        for batch in train_dl:\n",
        "            x    = batch[0].to(device)\n",
        "            y    = batch[1].to(device)\n",
        "            y_pred = model(x)\n",
        "            loss = loss_fn(y_pred, y)\n",
        "\n",
        "            optimizer.zero_grad()\n",
        "            loss.backward()\n",
        "            optimizer.step()\n",
        "\n",
        "            y_pred = y_pred.detach().cpu().numpy()\n",
        "            y = y.detach().cpu().numpy()\n",
        "\n",
        "\n",
        "            history_train['loss'] += loss.item() * x.size(0)\n",
        "            for name, func in zip(metrics_name, metrics):\n",
        "                try:\n",
        "                    history_train[name] += func(y, y_pred) * x.size(0)\n",
        "                except:\n",
        "                    if task == 'binary': y_pred_ = y_pred.round()\n",
        "                    elif task == 'multiclass': y_pred_ = y_pred.argmax(axis=-1)\n",
        "                    history_train[name] += func(y, y_pred_) * x.size(0)\n",
        "\n",
        "        for name in history_train:\n",
        "            history_train[name] /= len(train_dl.dataset)\n",
        "\n",
        "\n",
        "        model.eval()\n",
        "        history_val = {'val_' + name: 0 for name in metrics_name+['loss']}\n",
        "\n",
        "        with torch.no_grad():\n",
        "            for batch in val_dl:\n",
        "                x    = batch[0].to(device)\n",
        "                y    = batch[1].to(device)\n",
        "                y_pred = model(x)\n",
        "                loss = loss_fn(y_pred, y)\n",
        "\n",
        "                y_pred = y_pred.cpu().numpy()\n",
        "                y = y.cpu().numpy()\n",
        "\n",
        "                history_val['val_loss'] += loss.item() * x.size(0)\n",
        "                for name, func in zip(metrics_name, metrics):\n",
        "                    try:\n",
        "                        history_val['val_'+name] += func(y, y_pred) * x.size(0)\n",
        "                    except:\n",
        "                        if task == 'binary': y_pred_ = y_pred.round()\n",
        "                        elif task == 'multiclass': y_pred_ = y_pred.argmax(axis=-1)\n",
        "\n",
        "                        history_val['val_'+name] += func(y, y_pred_) * x.size(0)\n",
        "\n",
        "        for name in history_val:\n",
        "            history_val[name] /= len(val_dl.dataset)\n",
        "\n",
        "\n",
        "\n",
        "        end_time_epoch = time.time()\n",
        "\n",
        "        for name in history_train:\n",
        "            history[name].append(history_train[name])\n",
        "            history['val_'+name].append(history_val['val_'+name])\n",
        "\n",
        "        total_time_epoch = end_time_epoch - start_time_epoch\n",
        "\n",
        "        print(f'Epoch {epoch+1:4d} {total_time_epoch:4.0f}sec', end='\\t')\n",
        "        for name in history_train:\n",
        "            print(f'{name}: {history[name][-1]:10.3g}', end='\\t')\n",
        "            print(f\"val_{name}: {history['val_'+name][-1]:10.3g}\", end='\\t')\n",
        "        print()\n",
        "\n",
        "\n",
        "\n",
        "    end_time_train       = time.time()\n",
        "    total_time_train     = end_time_train - start_time_train\n",
        "    print()\n",
        "    print('Time total:     %5.2f sec' % (total_time_train))\n",
        "\n",
        "    return history"
      ],
      "metadata": {
        "execution": {
          "iopub.status.busy": "2024-08-18T10:27:34.828885Z",
          "iopub.status.idle": "2024-08-18T10:27:34.829454Z",
          "shell.execute_reply.started": "2024-08-18T10:27:34.829172Z",
          "shell.execute_reply": "2024-08-18T10:27:34.829195Z"
        },
        "trusted": true,
        "id": "ET4kb84ACBzm"
      },
      "execution_count": null,
      "outputs": []
    },
    {
      "cell_type": "code",
      "source": [
        "loss_fn = nn.CrossEntropyLoss()\n",
        "\n",
        "optimizer = torch.optim.Adam(model.parameters(), lr=1e-4)"
      ],
      "metadata": {
        "execution": {
          "iopub.status.busy": "2024-08-18T10:27:34.831883Z",
          "iopub.status.idle": "2024-08-18T10:27:34.832454Z",
          "shell.execute_reply.started": "2024-08-18T10:27:34.832161Z",
          "shell.execute_reply": "2024-08-18T10:27:34.832184Z"
        },
        "trusted": true,
        "id": "787B7Om1CBzn"
      },
      "execution_count": null,
      "outputs": []
    },
    {
      "cell_type": "code",
      "source": [
        "from sklearn.metrics import accuracy_score\n",
        "\n",
        "history = train(model, optimizer, loss_fn, train_loader, test_loader,\n",
        "                epochs=50,\n",
        "                metrics=[accuracy_score],\n",
        "                device=device,\n",
        "                task='multiclass')"
      ],
      "metadata": {
        "execution": {
          "iopub.status.busy": "2024-08-18T10:27:34.834207Z",
          "iopub.status.idle": "2024-08-18T10:27:34.834774Z",
          "shell.execute_reply.started": "2024-08-18T10:27:34.834471Z",
          "shell.execute_reply": "2024-08-18T10:27:34.834493Z"
        },
        "trusted": true,
        "id": "lwqT_tZzCBzn"
      },
      "execution_count": null,
      "outputs": []
    }
  ]
}