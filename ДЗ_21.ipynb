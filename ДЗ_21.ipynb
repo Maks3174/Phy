{
  "nbformat": 4,
  "nbformat_minor": 0,
  "metadata": {
    "colab": {
      "provenance": [],
      "include_colab_link": true
    },
    "kernelspec": {
      "name": "python3",
      "display_name": "Python 3"
    },
    "language_info": {
      "name": "python"
    }
  },
  "cells": [
    {
      "cell_type": "markdown",
      "metadata": {
        "id": "view-in-github",
        "colab_type": "text"
      },
      "source": [
        "<a href=\"https://colab.research.google.com/github/Maks3174/Phy/blob/main/%D0%94%D0%97_21.ipynb\" target=\"_parent\"><img src=\"https://colab.research.google.com/assets/colab-badge.svg\" alt=\"Open In Colab\"/></a>"
      ]
    },
    {
      "cell_type": "markdown",
      "source": [
        "# Завдання\n",
        "\n",
        "* Завантажте дані\n",
        "* Розділіть дані на тренувальні та тестові\n",
        "* У `MyTokenizer` добавте обробку тексту за допомогою `nltk`, застосуйте **стематизацію**\n",
        "* Застосуйте `TfidfVectorizer`\n",
        "* Застосуйте `TruncatedSVD`\n",
        "* Натренуйте модель [SVC](https://scikit-learn.org/stable/modules/generated/sklearn.svm.SVC.html#sklearn.svm.SVC) з параметром `kernel=\"linear\"`, якщо вистачить пам'яті можна спробувати `kernel=\"rbf\"`\n",
        "* Виведіть результати"
      ],
      "metadata": {
        "id": "5QELje_64yp4"
      }
    },
    {
      "cell_type": "markdown",
      "source": [
        "# Дані про телеграм"
      ],
      "metadata": {
        "id": "c0s4j60x4tLg"
      }
    },
    {
      "cell_type": "code",
      "execution_count": null,
      "metadata": {
        "id": "QZ3aCzvW39j7"
      },
      "outputs": [],
      "source": [
        "import pandas as pd\n",
        "from sklearn.model_selection import train_test_split\n",
        "from sklearn.feature_extraction.text import TfidfVectorizer\n",
        "from sklearn.svm import SVC\n",
        "from sklearn.decomposition import TruncatedSVD\n",
        "from sklearn.pipeline import Pipeline\n",
        "from sklearn.metrics import classification_report\n",
        "import nltk\n",
        "from nltk.stem import PorterStemmer\n",
        "from nltk.tokenize import word_tokenize\n",
        "\n",
        "df = pd.read_csv(\"https://raw.githubusercontent.com/HalyshAnton/IT-Step-Pyton-AI/main/module6/data/telegram_spam.csv\")\n",
        "\n",
        "X_train, X_test, y_train, y_test = train_test_split(df['Message'], df['Category'], test_size=0.2, random_state=42)\n",
        "\n",
        "class MyTokenizer:\n",
        "    def __init__(self):\n",
        "        self.stemmer = PorterStemmer()\n",
        "\n",
        "    def __call__(self, text):\n",
        "        tokens = word_tokenize(text)\n",
        "        stemmed_tokens = [self.stemmer.stem(token) for token in tokens]\n",
        "        return stemmed_tokens\n",
        "\n",
        "tfidf = TfidfVectorizer(tokenizer=MyTokenizer(), max_features=5000)\n",
        "\n",
        "svd = TruncatedSVD(n_components=300)\n",
        "\n",
        "svc_linear = SVC(kernel='linear', random_state=42)\n",
        "\n",
        "pipeline = Pipeline([\n",
        "    ('tfidf', tfidf),\n",
        "    ('svd', svd),\n",
        "    ('clf', svc_linear)\n",
        "])\n",
        "\n",
        "pipeline.fit(X_train, y_train)\n",
        "\n",
        "y_pred = pipeline.predict(X_test)\n",
        "\n",
        "results = classification_report(y_test, y_pred, output_dict=True)\n",
        "results"
      ]
    }
  ]
}