{
  "nbformat": 4,
  "nbformat_minor": 0,
  "metadata": {
    "colab": {
      "provenance": [],
      "include_colab_link": true
    },
    "kernelspec": {
      "name": "python3",
      "display_name": "Python 3"
    },
    "language_info": {
      "name": "python"
    }
  },
  "cells": [
    {
      "cell_type": "markdown",
      "metadata": {
        "id": "view-in-github",
        "colab_type": "text"
      },
      "source": [
        "<a href=\"https://colab.research.google.com/github/Maks3174/Phy/blob/main/%D0%9A%D0%BE%D0%BF%D1%96%D1%8F_%D0%B7%D0%B0%D0%BF%D0%B8%D1%81%D0%BD%D0%B8%D0%BA%D0%B0_%22%D0%9F%D1%80%D0%B0%D0%BA%D1%82%D0%B8%D0%BA%D0%B0_numpy_ipynb%22.ipynb\" target=\"_parent\"><img src=\"https://colab.research.google.com/assets/colab-badge.svg\" alt=\"Open In Colab\"/></a>"
      ]
    },
    {
      "cell_type": "markdown",
      "source": [
        "Імпортуйте модуль numpy"
      ],
      "metadata": {
        "id": "rIioSM27QJ8x"
      }
    },
    {
      "cell_type": "code",
      "execution_count": 3,
      "metadata": {
        "id": "rDtfBq8ANBhL"
      },
      "outputs": [],
      "source": [
        "import numpy as np"
      ]
    },
    {
      "cell_type": "markdown",
      "source": [
        "# Завдання 1\n",
        "Створіть масив з елементами від 1 до 12. Виведіть розмір та тип масиву"
      ],
      "metadata": {
        "id": "npT_FnlcNwke"
      }
    },
    {
      "cell_type": "code",
      "source": [
        "array = np.arange(1, 13)\n",
        "print(\"Масив:\", array)\n",
        "print(\"Розмір масиву:\", array.size)\n",
        "print(\"Тип масиву:\", array.dtype)\n"
      ],
      "metadata": {
        "id": "02EdQMKlOZHr",
        "colab": {
          "base_uri": "https://localhost:8080/"
        },
        "outputId": "728b8457-649b-4859-9262-128033787a5a"
      },
      "execution_count": 4,
      "outputs": [
        {
          "output_type": "stream",
          "name": "stdout",
          "text": [
            "Масив: [ 1  2  3  4  5  6  7  8  9 10 11 12]\n",
            "Розмір масиву: 12\n",
            "Тип масиву: int64\n"
          ]
        }
      ]
    },
    {
      "cell_type": "markdown",
      "source": [
        "# Завдання 2\n",
        "Зробіть на основі попереднього масиву матрицю з 4 стовчиками. Змініть тип даних матриці на float32. Виведіть транспоновану матрицю."
      ],
      "metadata": {
        "id": "HH8hOwVhNxWE"
      }
    },
    {
      "cell_type": "code",
      "source": [
        "matrix = array.reshape((3, 4))\n",
        "matrix = matrix.astype(np.float32)\n",
        "transposed_matrix = matrix.T\n",
        "\n",
        "print(\"Матриця з 4 стовпчиками:\\n\", matrix)\n",
        "print(\"Транспонована матриця:\\n\", transposed_matrix)\n"
      ],
      "metadata": {
        "id": "4jYqwTycOYbN",
        "colab": {
          "base_uri": "https://localhost:8080/"
        },
        "outputId": "12827c18-54e5-43cf-fba7-7783e46a5df9"
      },
      "execution_count": 5,
      "outputs": [
        {
          "output_type": "stream",
          "name": "stdout",
          "text": [
            "Матриця з 4 стовпчиками:\n",
            " [[ 1.  2.  3.  4.]\n",
            " [ 5.  6.  7.  8.]\n",
            " [ 9. 10. 11. 12.]]\n",
            "Транспонована матриця:\n",
            " [[ 1.  5.  9.]\n",
            " [ 2.  6. 10.]\n",
            " [ 3.  7. 11.]\n",
            " [ 4.  8. 12.]]\n"
          ]
        }
      ]
    },
    {
      "cell_type": "markdown",
      "source": [
        "#Завдання 3\n",
        "Створіть матрицю 8х8 з 0 та 1 розміщеними в шаховому порядку"
      ],
      "metadata": {
        "id": "T35Vjkz1Nxez"
      }
    },
    {
      "cell_type": "code",
      "source": [
        "chess_board = np.zeros((8, 8), dtype=int)\n",
        "\n",
        "chess_board[1::2, ::2] = 1\n",
        "chess_board[::2, 1::2] = 1\n",
        "\n",
        "print(\"Матриця 8х8 в шаховому порядку:\\n\", chess_board)\n"
      ],
      "metadata": {
        "id": "mrbnfiPQPu_n",
        "colab": {
          "base_uri": "https://localhost:8080/"
        },
        "outputId": "7e06f161-3501-449f-c96a-ce471327b4dd"
      },
      "execution_count": 6,
      "outputs": [
        {
          "output_type": "stream",
          "name": "stdout",
          "text": [
            "Матриця 8х8 в шаховому порядку:\n",
            " [[0 1 0 1 0 1 0 1]\n",
            " [1 0 1 0 1 0 1 0]\n",
            " [0 1 0 1 0 1 0 1]\n",
            " [1 0 1 0 1 0 1 0]\n",
            " [0 1 0 1 0 1 0 1]\n",
            " [1 0 1 0 1 0 1 0]\n",
            " [0 1 0 1 0 1 0 1]\n",
            " [1 0 1 0 1 0 1 0]]\n"
          ]
        }
      ]
    },
    {
      "cell_type": "markdown",
      "source": [
        "# Завдання 4\n",
        "Створіть випадкову матрицю 4х3. Знайдіть суму елементів в стовпчиках\\рядках\\усій матриці"
      ],
      "metadata": {
        "id": "g87KAY1nNxoy"
      }
    },
    {
      "cell_type": "code",
      "source": [
        "random_matrix = np.random.rand(4, 3)\n",
        "\n",
        "sum_columns = random_matrix.sum(axis=0)\n",
        "sum_rows = random_matrix.sum(axis=1)\n",
        "sum_all = random_matrix.sum()\n",
        "\n",
        "print(\"Випадкова матриця 4х3:\\n\", random_matrix)\n",
        "print(\"Сума елементів в стовпчиках:\", sum_columns)\n",
        "print(\"Сума елементів в рядках:\", sum_rows)\n",
        "print(\"Сума всіх елементів матриці:\", sum_all)\n"
      ],
      "metadata": {
        "id": "RGA3022VQIZV",
        "colab": {
          "base_uri": "https://localhost:8080/"
        },
        "outputId": "3a417f11-7777-4fdc-facf-dcc03e965ea9"
      },
      "execution_count": 7,
      "outputs": [
        {
          "output_type": "stream",
          "name": "stdout",
          "text": [
            "Випадкова матриця 4х3:\n",
            " [[0.51705256 0.00328222 0.77533626]\n",
            " [0.81441866 0.25312033 0.72088823]\n",
            " [0.13501267 0.81888375 0.66805865]\n",
            " [0.4087372  0.30370227 0.12065509]]\n",
            "Сума елементів в стовпчиках: [1.87522108 1.37898857 2.28493823]\n",
            "Сума елементів в рядках: [1.29567103 1.78842722 1.62195507 0.83309456]\n",
            "Сума всіх елементів матриці: 5.539147875094147\n"
          ]
        }
      ]
    },
    {
      "cell_type": "markdown",
      "source": [
        "# Завдання 5\n",
        "У попередній матриці від кожного рядка відніміть максимальний елемент цього рядка"
      ],
      "metadata": {
        "id": "AGH0TVVBNxx9"
      }
    },
    {
      "cell_type": "code",
      "source": [
        "max_in_rows = random_matrix.max(axis=1).reshape(-1, 1)\n",
        "normalized_matrix = random_matrix - max_in_rows\n",
        "\n",
        "print(\"Матриця після віднімання максимального елемента кожного рядка:\\n\", normalized_matrix)\n"
      ],
      "metadata": {
        "id": "TVYjbsBDQHTU",
        "colab": {
          "base_uri": "https://localhost:8080/"
        },
        "outputId": "4e2a3719-5fed-4dc5-b022-fbcf5abab103"
      },
      "execution_count": 8,
      "outputs": [
        {
          "output_type": "stream",
          "name": "stdout",
          "text": [
            "Матриця після віднімання максимального елемента кожного рядка:\n",
            " [[-0.2582837  -0.77205404  0.        ]\n",
            " [ 0.         -0.56129833 -0.09353043]\n",
            " [-0.68387108  0.         -0.15082509]\n",
            " [ 0.         -0.10503492 -0.2880821 ]]\n"
          ]
        }
      ]
    },
    {
      "cell_type": "markdown",
      "source": [
        "# Завдання 6\n",
        "Є дані про вагу контейнерів для перевезення на кораблі: дрібний - 5 т,  малий - 10 т, середній - 25 т, великий - 40 т. На кораблі розміщено 20 дрібних, 5 малих, 10 середніх та 4 великих контейнерів. Знайти масу вантажу."
      ],
      "metadata": {
        "id": "cH8WhnsjQsXi"
      }
    },
    {
      "cell_type": "code",
      "source": [
        "weights = np.array([5, 10, 25, 40])\n",
        "quantities = np.array([20, 5, 10, 4])\n",
        "\n",
        "total_weight = np.sum(weights * quantities)\n",
        "print(\"Загальна маса вантажу на кораблі:\", total_weight, \"т\")\n"
      ],
      "metadata": {
        "id": "BYrqqe9WR6g7",
        "colab": {
          "base_uri": "https://localhost:8080/"
        },
        "outputId": "c13dd0e1-4b0b-4415-91e7-11994d8ccee2"
      },
      "execution_count": 9,
      "outputs": [
        {
          "output_type": "stream",
          "name": "stdout",
          "text": [
            "Загальна маса вантажу на кораблі: 560 т\n"
          ]
        }
      ]
    },
    {
      "cell_type": "markdown",
      "source": [
        "# Завдання 7\n",
        "Тепер у нас декілька кораблів. Напишіть код для обчислення вантажу на кожному кораблі."
      ],
      "metadata": {
        "id": "IhdiDOh3Qrmb"
      }
    },
    {
      "cell_type": "code",
      "source": [
        "ships_quantities = np.array([\n",
        "    [20, 5, 10, 4],\n",
        "    [15, 10, 5, 8],\n",
        "    [25, 8, 12, 3]\n",
        "])\n",
        "\n",
        "ships_weights = ships_quantities @ weights\n",
        "\n",
        "print(\"Маса вантажу на кожному кораблі:\", ships_weights, \"т\")\n"
      ],
      "metadata": {
        "id": "gVUXPdFhSI95",
        "outputId": "7e0c0506-0fa3-4d98-8d6c-00db2e07bfa2",
        "colab": {
          "base_uri": "https://localhost:8080/"
        }
      },
      "execution_count": 10,
      "outputs": [
        {
          "output_type": "stream",
          "name": "stdout",
          "text": [
            "Маса вантажу на кожному кораблі: [560 620 625] т\n"
          ]
        }
      ]
    }
  ]
}