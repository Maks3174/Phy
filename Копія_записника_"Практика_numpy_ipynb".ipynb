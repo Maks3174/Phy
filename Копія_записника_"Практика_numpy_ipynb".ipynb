{
  "nbformat": 4,
  "nbformat_minor": 0,
  "metadata": {
    "colab": {
      "provenance": [],
      "include_colab_link": true
    },
    "kernelspec": {
      "name": "python3",
      "display_name": "Python 3"
    },
    "language_info": {
      "name": "python"
    }
  },
  "cells": [
    {
      "cell_type": "markdown",
      "metadata": {
        "id": "view-in-github",
        "colab_type": "text"
      },
      "source": [
        "<a href=\"https://colab.research.google.com/github/Maks3174/Phy/blob/main/%D0%9A%D0%BE%D0%BF%D1%96%D1%8F_%D0%B7%D0%B0%D0%BF%D0%B8%D1%81%D0%BD%D0%B8%D0%BA%D0%B0_%22%D0%9F%D1%80%D0%B0%D0%BA%D1%82%D0%B8%D0%BA%D0%B0_numpy_ipynb%22.ipynb\" target=\"_parent\"><img src=\"https://colab.research.google.com/assets/colab-badge.svg\" alt=\"Open In Colab\"/></a>"
      ]
    },
    {
      "cell_type": "markdown",
      "source": [
        "Імпортуйте модуль numpy"
      ],
      "metadata": {
        "id": "rIioSM27QJ8x"
      }
    },
    {
      "cell_type": "code",
      "execution_count": null,
      "metadata": {
        "id": "rDtfBq8ANBhL",
        "outputId": "2d586cc2-2aad-4617-f291-1ffcad1da154",
        "colab": {
          "base_uri": "https://localhost:8080/"
        }
      },
      "outputs": [
        {
          "output_type": "stream",
          "name": "stdout",
          "text": [
            "Масив: [ 1  2  3  4  5  6  7  8  9 10 11 12]\n",
            "Розмір масиву: 12\n",
            "Тип масиву: int64\n"
          ]
        }
      ],
      "source": [
        "import numpy as np"
      ]
    },
    {
      "cell_type": "markdown",
      "source": [
        "# Завдання 1\n",
        "Створіть масив з елементами від 1 до 12. Виведіть розмір та тип масиву"
      ],
      "metadata": {
        "id": "npT_FnlcNwke"
      }
    },
    {
      "cell_type": "code",
      "source": [
        "array = np.arange(1, 13)\n",
        "print(\"Масив:\", array)\n",
        "print(\"Розмір масиву:\", array.size)\n",
        "print(\"Тип масиву:\", array.dtype)\n"
      ],
      "metadata": {
        "id": "02EdQMKlOZHr"
      },
      "execution_count": null,
      "outputs": []
    },
    {
      "cell_type": "markdown",
      "source": [
        "# Завдання 2\n",
        "Зробіть на основі попереднього масиву матрицю з 4 стовчиками. Змініть тип даних матриці на float32. Виведіть транспоновану матрицю."
      ],
      "metadata": {
        "id": "HH8hOwVhNxWE"
      }
    },
    {
      "cell_type": "code",
      "source": [
        "matrix = array.reshape((3, 4))\n",
        "matrix = matrix.astype(np.float32)\n",
        "transposed_matrix = matrix.T\n",
        "\n",
        "print(\"Матриця з 4 стовпчиками:\\n\", matrix)\n",
        "print(\"Транспонована матриця:\\n\", transposed_matrix)\n"
      ],
      "metadata": {
        "id": "4jYqwTycOYbN"
      },
      "execution_count": null,
      "outputs": []
    },
    {
      "cell_type": "markdown",
      "source": [
        "#Завдання 3\n",
        "Створіть матрицю 8х8 з 0 та 1 розміщеними в шаховому порядку"
      ],
      "metadata": {
        "id": "T35Vjkz1Nxez"
      }
    },
    {
      "cell_type": "code",
      "source": [
        "chess_board = np.zeros((8, 8), dtype=int)\n",
        "\n",
        "chess_board[1::2, ::2] = 1\n",
        "chess_board[::2, 1::2] = 1\n",
        "\n",
        "print(\"Матриця 8х8 в шаховому порядку:\\n\", chess_board)\n"
      ],
      "metadata": {
        "id": "mrbnfiPQPu_n"
      },
      "execution_count": null,
      "outputs": []
    },
    {
      "cell_type": "markdown",
      "source": [
        "# Завдання 4\n",
        "Створіть випадкову матрицю 4х3. Знайдіть суму елементів в стовпчиках\\рядках\\усій матриці"
      ],
      "metadata": {
        "id": "g87KAY1nNxoy"
      }
    },
    {
      "cell_type": "code",
      "source": [
        "random_matrix = np.random.rand(4, 3)\n",
        "\n",
        "sum_columns = random_matrix.sum(axis=0)\n",
        "sum_rows = random_matrix.sum(axis=1)\n",
        "sum_all = random_matrix.sum()\n",
        "\n",
        "print(\"Випадкова матриця 4х3:\\n\", random_matrix)\n",
        "print(\"Сума елементів в стовпчиках:\", sum_columns)\n",
        "print(\"Сума елементів в рядках:\", sum_rows)\n",
        "print(\"Сума всіх елементів матриці:\", sum_all)\n"
      ],
      "metadata": {
        "id": "RGA3022VQIZV"
      },
      "execution_count": null,
      "outputs": []
    },
    {
      "cell_type": "markdown",
      "source": [
        "# Завдання 5\n",
        "У попередній матриці від кожного рядка відніміть максимальний елемент цього рядка"
      ],
      "metadata": {
        "id": "AGH0TVVBNxx9"
      }
    },
    {
      "cell_type": "code",
      "source": [
        "max_in_rows = random_matrix.max(axis=1).reshape(-1, 1)\n",
        "normalized_matrix = random_matrix - max_in_rows\n",
        "\n",
        "print(\"Матриця після віднімання максимального елемента кожного рядка:\\n\", normalized_matrix)\n"
      ],
      "metadata": {
        "id": "TVYjbsBDQHTU"
      },
      "execution_count": null,
      "outputs": []
    },
    {
      "cell_type": "markdown",
      "source": [
        "# Завдання 6\n",
        "Є дані про вагу контейнерів для перевезення на кораблі: дрібний - 5 т,  малий - 10 т, середній - 25 т, великий - 40 т. На кораблі розміщено 20 дрібних, 5 малих, 10 середніх та 4 великих контейнерів. Знайти масу вантажу."
      ],
      "metadata": {
        "id": "cH8WhnsjQsXi"
      }
    },
    {
      "cell_type": "code",
      "source": [
        "weights = np.array([5, 10, 25, 40])\n",
        "quantities = np.array([20, 5, 10, 4])\n",
        "\n",
        "total_weight = np.sum(weights * quantities)\n",
        "print(\"Загальна маса вантажу на кораблі:\", total_weight, \"т\")\n"
      ],
      "metadata": {
        "id": "BYrqqe9WR6g7"
      },
      "execution_count": null,
      "outputs": []
    },
    {
      "cell_type": "markdown",
      "source": [
        "# Завдання 7\n",
        "Тепер у нас декілька кораблів. Напишіть код для обчислення вантажу на кожному кораблі."
      ],
      "metadata": {
        "id": "IhdiDOh3Qrmb"
      }
    },
    {
      "cell_type": "code",
      "source": [
        "ships_quantities = np.array([\n",
        "    [20, 5, 10, 4],\n",
        "    [15, 10, 5, 8],\n",
        "    [25, 8, 12, 3]\n",
        "])\n",
        "\n",
        "ships_weights = ships_quantities @ weights\n",
        "\n",
        "print(\"Маса вантажу на кожному кораблі:\", ships_weights, \"т\")\n"
      ],
      "metadata": {
        "id": "gVUXPdFhSI95",
        "outputId": "57b41b88-f81e-4aac-b050-4072b04adaa7",
        "colab": {
          "base_uri": "https://localhost:8080/",
          "height": 211
        }
      },
      "execution_count": null,
      "outputs": [
        {
          "output_type": "error",
          "ename": "NameError",
          "evalue": "name 'weights' is not defined",
          "traceback": [
            "\u001b[0;31m---------------------------------------------------------------------------\u001b[0m",
            "\u001b[0;31mNameError\u001b[0m                                 Traceback (most recent call last)",
            "\u001b[0;32m<ipython-input-2-021add4ee79a>\u001b[0m in \u001b[0;36m<cell line: 7>\u001b[0;34m()\u001b[0m\n\u001b[1;32m      5\u001b[0m ])\n\u001b[1;32m      6\u001b[0m \u001b[0;34m\u001b[0m\u001b[0m\n\u001b[0;32m----> 7\u001b[0;31m \u001b[0mships_weights\u001b[0m \u001b[0;34m=\u001b[0m \u001b[0mships_quantities\u001b[0m \u001b[0;34m@\u001b[0m \u001b[0mweights\u001b[0m\u001b[0;34m\u001b[0m\u001b[0;34m\u001b[0m\u001b[0m\n\u001b[0m\u001b[1;32m      8\u001b[0m \u001b[0;34m\u001b[0m\u001b[0m\n\u001b[1;32m      9\u001b[0m \u001b[0mprint\u001b[0m\u001b[0;34m(\u001b[0m\u001b[0;34m\"Маса вантажу на кожному кораблі:\"\u001b[0m\u001b[0;34m,\u001b[0m \u001b[0mships_weights\u001b[0m\u001b[0;34m,\u001b[0m \u001b[0;34m\"т\"\u001b[0m\u001b[0;34m)\u001b[0m\u001b[0;34m\u001b[0m\u001b[0;34m\u001b[0m\u001b[0m\n",
            "\u001b[0;31mNameError\u001b[0m: name 'weights' is not defined"
          ]
        }
      ]
    }
  ]
}